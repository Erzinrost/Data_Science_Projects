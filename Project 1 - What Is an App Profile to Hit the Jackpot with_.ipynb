{
 "cells": [
  {
   "cell_type": "markdown",
   "metadata": {},
   "source": [
    "# What Is an App Profile to Hit the Jackpot with?"
   ]
  },
  {
   "cell_type": "markdown",
   "metadata": {},
   "source": [
    "## Abstract"
   ]
  },
  {
   "cell_type": "markdown",
   "metadata": {},
   "source": [
    "- This project is about figuring out what mobile app profiles or genres in App Store and Google Play are **most promising** and which are not. The task is done by the assessement of competitive landscape within each genre - i.e. types of major players, degree of market concentration, etc.\n",
    "- The datasets used do not cover all apps, but are rather samples with enough observations to be representative of the whole population. The [initial Google Play dataset](https://www.kaggle.com/lava18/google-play-store-apps) contains 10841 values, while the [initial App Store dataset](https://www.kaggle.com/ramamet4/app-store-apple-data-set-10k-apps) - 7197 values.\n",
    "- The final goal is to provide app developers and others concerned with the insights regarding what niches to concentrate efforts on and what segments to stay away from. At the end of the project we propose to design a specialised free **app for reading** with special features - either containing the greatest books of all time or religious texts."
   ]
  },
  {
   "cell_type": "markdown",
   "metadata": {},
   "source": [
    "# **Initial Data Exploration**"
   ]
  },
  {
   "cell_type": "markdown",
   "metadata": {},
   "source": [
    "Let's open the datasets we downloaded from [Kaggle](https://www.kaggle.com/) concerning App Store and Google Play apps and explore them by printing the header and the first several rows."
   ]
  },
  {
   "cell_type": "code",
   "execution_count": 6,
   "metadata": {
    "scrolled": true
   },
   "outputs": [],
   "source": [
    "# Read the downloaded data on App Store apps and turn it into list of lists\n",
    "open_file = open('/Users/mac/downloads/AppleStore.csv')\n",
    "from csv import reader\n",
    "read_file = reader(open_file)\n",
    "Appleapps_data = list(read_file)\n",
    "\n",
    "# save data to Jupyter online folder using pandas\n",
    "import pandas as pd\n",
    "df1 = pd.read_csv('/Users/mac/downloads/AppleStore.csv')\n",
    "df1.to_csv('Projects_data/AppleStore.csv')"
   ]
  },
  {
   "cell_type": "code",
   "execution_count": 7,
   "metadata": {},
   "outputs": [],
   "source": [
    "# Read the downloaded data on Google Play apps and turn it into list of lists\n",
    "open_file = open('/Users/mac/downloads/googleplaystore.csv')\n",
    "from csv import reader\n",
    "read_file = reader(open_file)\n",
    "Googleapps_data = list(read_file)\n",
    "\n",
    "# save data to Jupyter online folder using pandas\n",
    "import pandas as pd\n",
    "df2 = pd.read_csv('/Users/mac/downloads/googleplaystore.csv')\n",
    "df2.to_csv('Projects_data/googleplaystore.csv')"
   ]
  },
  {
   "cell_type": "code",
   "execution_count": 40,
   "metadata": {},
   "outputs": [],
   "source": [
    "# Write a function which takes as arguments dataset name, rows range to print and \n",
    "# boolean for printing the number of rows and columns\n",
    "def explore_data(dataset, start, end, rows_and_columns=False):\n",
    "    dataset_slice = dataset[start:end]    # create a list of lists with the range of \n",
    "                                          # rows we want to consider\n",
    "    for row in dataset_slice:  # loop through the newly created slice of rows to print\n",
    "                               # each one with blank space in-between\n",
    "        print(row)\n",
    "        print('\\n') \n",
    "\n",
    "    if rows_and_columns:  # in the case boolean for this variable is set 'True', the number \n",
    "                          # of rows and columns of the considered dataset is printed \n",
    "        print('Number of rows:', len(dataset))\n",
    "        print('Number of columns:', len(dataset[0]))"
   ]
  },
  {
   "cell_type": "code",
   "execution_count": 41,
   "metadata": {},
   "outputs": [],
   "source": [
    "# Create a function, which can print bold text\n",
    "from IPython.display import Markdown, display\n",
    "def printmd(string):\n",
    "    display(Markdown(string))"
   ]
  },
  {
   "cell_type": "code",
   "execution_count": 42,
   "metadata": {
    "scrolled": true
   },
   "outputs": [
    {
     "data": {
      "text/markdown": [
       "**App Store apps dataset**"
      ],
      "text/plain": [
       "<IPython.core.display.Markdown object>"
      ]
     },
     "metadata": {},
     "output_type": "display_data"
    },
    {
     "name": "stdout",
     "output_type": "stream",
     "text": [
      "\n",
      "\n",
      "['id', 'track_name', 'size_bytes', 'currency', 'price', 'rating_count_tot', 'rating_count_ver', 'user_rating', 'user_rating_ver', 'ver', 'cont_rating', 'prime_genre', 'sup_devices.num', 'ipadSc_urls.num', 'lang.num', 'vpp_lic']\n",
      "\n",
      "\n",
      "['284882215', 'Facebook', '389879808', 'USD', '0.0', '2974676', '212', '3.5', '3.5', '95.0', '4+', 'Social Networking', '37', '1', '29', '1']\n",
      "\n",
      "\n",
      "['389801252', 'Instagram', '113954816', 'USD', '0.0', '2161558', '1289', '4.5', '4.0', '10.23', '12+', 'Photo & Video', '37', '0', '29', '1']\n",
      "\n",
      "\n",
      "Number of rows: 7198\n",
      "Number of columns: 16\n"
     ]
    },
    {
     "data": {
      "text/markdown": [
       "**Google Play apps dataset**"
      ],
      "text/plain": [
       "<IPython.core.display.Markdown object>"
      ]
     },
     "metadata": {},
     "output_type": "display_data"
    },
    {
     "name": "stdout",
     "output_type": "stream",
     "text": [
      "\n",
      "\n",
      "['App', 'Category', 'Rating', 'Reviews', 'Size', 'Installs', 'Type', 'Price', 'Content Rating', 'Genres', 'Last Updated', 'Current Ver', 'Android Ver']\n",
      "\n",
      "\n",
      "['Photo Editor & Candy Camera & Grid & ScrapBook', 'ART_AND_DESIGN', '4.1', '159', '19M', '10,000+', 'Free', '0', 'Everyone', 'Art & Design', 'January 7, 2018', '1.0.0', '4.0.3 and up']\n",
      "\n",
      "\n",
      "['Coloring book moana', 'ART_AND_DESIGN', '3.9', '967', '14M', '500,000+', 'Free', '0', 'Everyone', 'Art & Design;Pretend Play', 'January 15, 2018', '2.0.0', '4.0.3 and up']\n",
      "\n",
      "\n",
      "Number of rows: 10842\n",
      "Number of columns: 13\n"
     ]
    }
   ],
   "source": [
    "# Explore our datasets with the previously created function\n",
    "printmd('**App Store apps dataset**')\n",
    "print('\\n')\n",
    "explore_data(Appleapps_data,0,3,rows_and_columns=True)\n",
    "printmd('**Google Play apps dataset**')\n",
    "print('\\n')\n",
    "explore_data(Googleapps_data,0,3,rows_and_columns=True)"
   ]
  },
  {
   "cell_type": "markdown",
   "metadata": {},
   "source": [
    "From the output above we may see that the formats of both datasets are similar just to some extent. The columns of the most interest to us should contain apps' names, genres, price, and some metrics of popularity. The description of each variable in our datasets is [openly published](https://www.kaggle.com/ramamet4/app-store-apple-data-set-10k-apps/home) online in Kaggle."
   ]
  },
  {
   "cell_type": "markdown",
   "metadata": {},
   "source": [
    "# **Cleaning Data to Analyse Free Apps Profiles for English-Speaking Audience**"
   ]
  },
  {
   "cell_type": "markdown",
   "metadata": {},
   "source": [
    "Let's proceed with the data cleaning procedure. <br><br>**First**, there is a mistake in our Google Play dataset - there is a row with missing value:\n",
    "- We loop through the dataset so that to find rows with length different from the rest, i.e. that with missing values.\n",
    "- Such rows are then deleted from out dataset."
   ]
  },
  {
   "cell_type": "code",
   "execution_count": 43,
   "metadata": {},
   "outputs": [
    {
     "name": "stdout",
     "output_type": "stream",
     "text": [
      "Rows with missing values:\n",
      "\n",
      "\n",
      "['Life Made WI-Fi Touchscreen Photo Frame', '1.9', '19', '3.0M', '1,000+', 'Free', '0', 'Everyone', '', 'February 11, 2018', '1.0.19', '4.0 and up']\n",
      "10473\n"
     ]
    }
   ],
   "source": [
    "# Loop each row through the Google Play data and check for differences in length - the output\n",
    "# is printed for each such row\n",
    "print('Rows with missing values:')\n",
    "print('\\n')\n",
    "for row in Googleapps_data:\n",
    "    if len(row) != len(Googleapps_data[0]):\n",
    "        print(row)\n",
    "        print(Googleapps_data.index(row)) # the row number is printed to spot it and delete \n",
    "                                          # afterwards"
   ]
  },
  {
   "cell_type": "code",
   "execution_count": 44,
   "metadata": {
    "scrolled": true
   },
   "outputs": [
    {
     "name": "stdout",
     "output_type": "stream",
     "text": [
      "Rows before deletion : 10842\n",
      "Rows after deletion : 10841\n"
     ]
    }
   ],
   "source": [
    "# Print the number of rows before and after deletion to ensure the procedure was \n",
    "# performed correctly\n",
    "print('Rows before deletion', ':', len(Googleapps_data))\n",
    "del Googleapps_data[10473]\n",
    "print('Rows after deletion', ':', len(Googleapps_data))"
   ]
  },
  {
   "cell_type": "markdown",
   "metadata": {},
   "source": [
    "**Second**, we should find out whether there are duplicates in our datasets and if true, then clean them:\n",
    "- We loop through our dataset and check whether the string corresponding to the app's name in each row repeats again later.\n",
    "- We count the number of duplicates and give some examples of them, as well as the number of unique values.\n",
    "- We delete all the duplicates on the basis of their actuality. For this purpose we loop through the dataset, create a dictionary to refer to and look for the rows with the highest number of reviews, which is assumed to indicate the most recent values in the whole row.\n",
    "- We print the number of rows before and after the data cleaning procedure to check whether everything went correctly."
   ]
  },
  {
   "cell_type": "code",
   "execution_count": 45,
   "metadata": {},
   "outputs": [
    {
     "name": "stdout",
     "output_type": "stream",
     "text": [
      "An example of duplication:\n",
      "\n",
      "\n",
      "['Instagram', 'SOCIAL', '4.5', '66577313', 'Varies with device', '1,000,000,000+', 'Free', '0', 'Teen', 'Social', 'July 31, 2018', 'Varies with device', 'Varies with device']\n",
      "['Instagram', 'SOCIAL', '4.5', '66577446', 'Varies with device', '1,000,000,000+', 'Free', '0', 'Teen', 'Social', 'July 31, 2018', 'Varies with device', 'Varies with device']\n",
      "['Instagram', 'SOCIAL', '4.5', '66577313', 'Varies with device', '1,000,000,000+', 'Free', '0', 'Teen', 'Social', 'July 31, 2018', 'Varies with device', 'Varies with device']\n",
      "['Instagram', 'SOCIAL', '4.5', '66509917', 'Varies with device', '1,000,000,000+', 'Free', '0', 'Teen', 'Social', 'July 31, 2018', 'Varies with device', 'Varies with device']\n",
      "\n",
      "\n",
      "Number of duplicates: 1181\n",
      "\n",
      "\n",
      "Names of some duplicates: \n",
      " \n",
      " ['Quick PDF Scanner + OCR FREE', 'Box', 'Google My Business', 'ZOOM Cloud Meetings', 'join.me - Simple Meetings', 'Box', 'Zenefits', 'Google Ads', 'Google My Business', 'Slack', 'FreshBooks Classic', 'Insightly CRM', 'QuickBooks Accounting: Invoicing & Expenses', 'HipChat - Chat Built for Teams', 'Xero Accounting Software']\n"
     ]
    }
   ],
   "source": [
    "print('An example of duplication:')\n",
    "print('\\n')\n",
    "for i in Googleapps_data: # loop through Google Play data to print all the rows \n",
    "                          # related to Instagram\n",
    "    if i[0] == 'Instagram':\n",
    "        print(i)\n",
    "        \n",
    "duplicates = [] # create a list of duplicates\n",
    "unique = [] # create a list of unique values\n",
    "for row in Googleapps_data: # loop through Google Play data to target only the first column, where \n",
    "                            # app names are stored\n",
    "    i = row[0]\n",
    "    if i in unique:           # if the app name has already been encountered in previous rows,\n",
    "                              # it then goes to the duplicates list\n",
    "        duplicates.append(i)\n",
    "    else:                    \n",
    "        unique.append(i)\n",
    "print('\\n')\n",
    "print('Number of duplicates:', len(duplicates))\n",
    "print('\\n')\n",
    "print('Names of some duplicates:', '\\n','\\n', duplicates[:15])"
   ]
  },
  {
   "cell_type": "code",
   "execution_count": 46,
   "metadata": {},
   "outputs": [
    {
     "name": "stdout",
     "output_type": "stream",
     "text": [
      "Number of rows in Google Play apps data without duplicates : 9659\n"
     ]
    }
   ],
   "source": [
    "reviews_max = {}    # Create a dictionary for the maximum number of reviews\n",
    "for row in Googleapps_data[1:]: \n",
    "    name = row[0]              # loop for app names\n",
    "    n_reviews = float(row[3])  # loop for number of reviews\n",
    "    if name in reviews_max and reviews_max[name] < n_reviews: # if the app name has already been\n",
    "                    # encountered, but the max value in the dictionary is less than in the row,\n",
    "        reviews_max[name] = n_reviews # then the value in the dictionary is renewed\n",
    "    elif name not in reviews_max:     # if app name is new,\n",
    "        reviews_max[name] = n_reviews # than the value for the number of reviews in that row is \n",
    "                                      # given to the corresponding app name \n",
    "print('Number of rows in Google Play apps data without duplicates', ':', len(reviews_max))\n"
   ]
  },
  {
   "cell_type": "code",
   "execution_count": 47,
   "metadata": {},
   "outputs": [
    {
     "name": "stdout",
     "output_type": "stream",
     "text": [
      "Number of rows before cleaning : 10841\n",
      "\n",
      "\n",
      "Number of rows after cleaning : 9659\n"
     ]
    }
   ],
   "source": [
    "android_clean = [] # create list of lists for cleaned data without duplicates\n",
    "already_added = [] # create a list of repeated app names \n",
    "print('Number of rows before cleaning', ':', len(Googleapps_data))\n",
    "\n",
    "for row in Googleapps_data[1:]:\n",
    "    name = row[0]\n",
    "    n_reviews = float(row[3])\n",
    "    if n_reviews == reviews_max[name] and name not in already_added: \n",
    "        android_clean.append(row) # add a row to cleaned ones if the number of reviews is the\n",
    "                                  # greatest and the app name was not repeated before\n",
    "        already_added.append(name) # add to repeated\n",
    "\n",
    "Googleapps_data[1:] = android_clean\n",
    "print('\\n')\n",
    "print('Number of rows after cleaning', ':', len(android_clean))"
   ]
  },
  {
   "cell_type": "markdown",
   "metadata": {},
   "source": [
    "**Third**, we would consider only apps for english speaking audience and delete those in other languages:\n",
    "<br>\n",
    "- For these purposes we write a function which checks whether letters in a string have non-English characters - i.e. outside of the 0-255 ASCII standard range. \n",
    "- We then check our function to prove that it actually works.\n",
    "- We loop through the App Store and Google Play datasets to find characters of foreign languages and then delete such rows.\n",
    "- We compare the number of rows before and after procedure, as well as print first several rows of cleaned dataset to ensure that everything is done correctly.\n",
    "<br>\n",
    "Our function is not perfect and may delete apps for English speaking users, which use many special characters in their name, but the number of those should be negligible and not being able to influence much on our inferences."
   ]
  },
  {
   "cell_type": "code",
   "execution_count": 48,
   "metadata": {},
   "outputs": [
    {
     "name": "stdout",
     "output_type": "stream",
     "text": [
      "True\n",
      "False\n",
      "True\n",
      "True\n"
     ]
    }
   ],
   "source": [
    "# Write a function, which loops through its argument to check the identification code of \n",
    "# each letter  and returns boolean\n",
    "def onlyenglish(string):\n",
    "    nonenglish = 0   # the number of non-typical characters\n",
    "    for i in string:\n",
    "        if ord(i) > 255: # use ord() function to return the code of a character - for standard \n",
    "                         # letters it should be within the 0 - 255 range\n",
    "            nonenglish += 1 # add to the total if non-typical character is encountered\n",
    "    if nonenglish > 1: # if more than 1 non-typical character, than 'False' is returned.\n",
    "        return False\n",
    "    else:\n",
    "        return True\n",
    "\n",
    "# Check the function\n",
    "print(onlyenglish('Instagram'))\n",
    "print(onlyenglish('爱奇艺PPS -《欢乐颂2》电视剧热播'))\n",
    "print(onlyenglish('Docs To Go™ Free Office Suite'))\n",
    "print(onlyenglish('Instachat 😜'))"
   ]
  },
  {
   "cell_type": "code",
   "execution_count": 49,
   "metadata": {},
   "outputs": [
    {
     "name": "stdout",
     "output_type": "stream",
     "text": [
      "Number of rows Google Play dataset before cleaning : 9660\n",
      "\n",
      "\n",
      "After cleaning :\n",
      "\n",
      "\n",
      "['App', 'Category', 'Rating', 'Reviews', 'Size', 'Installs', 'Type', 'Price', 'Content Rating', 'Genres', 'Last Updated', 'Current Ver', 'Android Ver']\n",
      "\n",
      "\n",
      "['Photo Editor & Candy Camera & Grid & ScrapBook', 'ART_AND_DESIGN', '4.1', '159', '19M', '10,000+', 'Free', '0', 'Everyone', 'Art & Design', 'January 7, 2018', '1.0.0', '4.0.3 and up']\n",
      "\n",
      "\n",
      "['U Launcher Lite – FREE Live Cool Themes, Hide Apps', 'ART_AND_DESIGN', '4.7', '87510', '8.7M', '5,000,000+', 'Free', '0', 'Everyone', 'Art & Design', 'August 1, 2018', '1.2.4', '4.0.3 and up']\n",
      "\n",
      "\n",
      "Number of rows: 9556\n",
      "Number of columns: 13\n"
     ]
    }
   ],
   "source": [
    "# Get rid of non-English apps by looping through the Google Play data and applying our function\n",
    "# for sorting characters\n",
    "print('Number of rows Google Play dataset before cleaning', ':', len(Googleapps_data))\n",
    "Googleenglish = []\n",
    "for i in Googleapps_data:\n",
    "    if onlyenglish(i[0]):\n",
    "        Googleenglish.append(i)\n",
    "        \n",
    "# Check the size of the dataset before and after the procedure    \n",
    "GoogleappsinEnglish = Googleenglish\n",
    "print('\\n')\n",
    "print('After cleaning', ':') \n",
    "print('\\n')\n",
    "explore_data(GoogleappsinEnglish, 0, 3, True)"
   ]
  },
  {
   "cell_type": "code",
   "execution_count": 50,
   "metadata": {
    "scrolled": false
   },
   "outputs": [
    {
     "name": "stdout",
     "output_type": "stream",
     "text": [
      "Number of rows App Store dataset before cleaning : 7198\n",
      "\n",
      "\n",
      "After cleaning :\n",
      "\n",
      "\n",
      "['id', 'track_name', 'size_bytes', 'currency', 'price', 'rating_count_tot', 'rating_count_ver', 'user_rating', 'user_rating_ver', 'ver', 'cont_rating', 'prime_genre', 'sup_devices.num', 'ipadSc_urls.num', 'lang.num', 'vpp_lic']\n",
      "\n",
      "\n",
      "['284882215', 'Facebook', '389879808', 'USD', '0.0', '2974676', '212', '3.5', '3.5', '95.0', '4+', 'Social Networking', '37', '1', '29', '1']\n",
      "\n",
      "\n",
      "['389801252', 'Instagram', '113954816', 'USD', '0.0', '2161558', '1289', '4.5', '4.0', '10.23', '12+', 'Photo & Video', '37', '0', '29', '1']\n",
      "\n",
      "\n",
      "Number of rows: 6130\n",
      "Number of columns: 16\n"
     ]
    }
   ],
   "source": [
    "# Repeat the same procedure for the App Store dataset\n",
    "print('Number of rows App Store dataset before cleaning', ':', len(Appleapps_data))\n",
    "Appleenglish = []\n",
    "for i in Appleapps_data:\n",
    "    if onlyenglish(i[1]):\n",
    "        Appleenglish.append(i)\n",
    "    \n",
    "AppleappsinEnglish = Appleenglish\n",
    "print('\\n')\n",
    "print('After cleaning', ':') \n",
    "print('\\n')\n",
    "explore_data(AppleappsinEnglish, 0, 3, True)"
   ]
  },
  {
   "cell_type": "markdown",
   "metadata": {},
   "source": [
    "**Fourth**, we would like to consider only free apps, which are used the most due to their universal accessibility:\n",
    "- We loop through both datasets and create new ones, where only free apps are stored.\n",
    "- We then compare the total number of apps in both stores with that of free apps."
   ]
  },
  {
   "cell_type": "code",
   "execution_count": 51,
   "metadata": {},
   "outputs": [
    {
     "name": "stdout",
     "output_type": "stream",
     "text": [
      "The total number of Android apps : 9556\n",
      "The number of free Android apps : 8809\n",
      "\n",
      "\n",
      "The total number of iOS apps : 6130\n",
      "The number of free iOS apps : 3183\n"
     ]
    }
   ],
   "source": [
    "# Check the column of apps' category and save only free apps\n",
    "Free_android = [] # list for saving free apps\n",
    "for i in GoogleappsinEnglish[1:]:\n",
    "    if i[6] == 'Free':\n",
    "        Free_android.append(i)\n",
    "\n",
    "# Check the column of apps' price and save only those with the '0' value\n",
    "Free_ios = []\n",
    "for i in AppleappsinEnglish[1:]:\n",
    "    if float(i[4]) == 0:\n",
    "        Free_ios.append(i)\n",
    "\n",
    "# Compare the result before and after procedure\n",
    "print('The total number of Android apps', ':', len(GoogleappsinEnglish))\n",
    "print('The number of free Android apps', ':', len(Free_android))\n",
    "print('\\n')\n",
    "print('The total number of iOS apps', ':', len(AppleappsinEnglish))\n",
    "print('The number of free iOS apps', ':', len(Free_ios))"
   ]
  },
  {
   "cell_type": "markdown",
   "metadata": {},
   "source": [
    "# **Analysing Apps Profiles' Popularity and Targeting the Jackpot to Hit**"
   ]
  },
  {
   "cell_type": "markdown",
   "metadata": {},
   "source": [
    "After the data cleaning step is done, let's proceed with the actual analysis of our data. Out utimate goal is to find out which genres enjoy the most popularity amongst smart phones users. First, it seems reasonable to explore how many apps are within each genre:\n",
    "- We creare a new function, which counts the number of rows attributed to each category - i.e. its frequency.\n",
    "- We build another function, which uses the above-mentioned one to count the percentages of the frequency and sort them in the descending order. This function may help us in the following comparative analysis.\n",
    "- We check if both functions work well.\n",
    "- Within Google Play dataset there are two columns, which can be attributed to genre definition (named \"categories\" and \"genres\"), hence both are printed."
   ]
  },
  {
   "cell_type": "code",
   "execution_count": 52,
   "metadata": {},
   "outputs": [],
   "source": [
    "# Create a function containing a dictionary, which has keys (i.e. index) and the number\n",
    "# of their occurrence in the considered dataset\n",
    "def freq_table(dataset, index):\n",
    "    frequency = {}\n",
    "    \n",
    "    for row in dataset:\n",
    "        if row[index] in frequency:\n",
    "            frequency[row[index]] += 1\n",
    "            \n",
    "        else:\n",
    "            frequency[row[index]] = 1\n",
    "    \n",
    "    return frequency"
   ]
  },
  {
   "cell_type": "code",
   "execution_count": 53,
   "metadata": {},
   "outputs": [
    {
     "data": {
      "text/markdown": [
       "**Frequency of various genres in App Store**:"
      ],
      "text/plain": [
       "<IPython.core.display.Markdown object>"
      ]
     },
     "metadata": {},
     "output_type": "display_data"
    },
    {
     "name": "stdout",
     "output_type": "stream",
     "text": [
      "\n",
      "\n",
      "{'Social Networking': 104, 'Photo & Video': 160, 'Games': 1860, 'Music': 65, 'Reference': 17, 'Health & Fitness': 65, 'Weather': 28, 'Utilities': 77, 'Travel': 37, 'Shopping': 80, 'News': 43, 'Navigation': 6, 'Lifestyle': 49, 'Entertainment': 251, 'Food & Drink': 26, 'Sports': 69, 'Book': 12, 'Finance': 35, 'Education': 118, 'Productivity': 54, 'Business': 17, 'Catalogs': 4, 'Medical': 6}\n",
      "\n",
      "\n"
     ]
    },
    {
     "data": {
      "text/markdown": [
       "**Frequency of various genres in Google Play**:"
      ],
      "text/plain": [
       "<IPython.core.display.Markdown object>"
      ]
     },
     "metadata": {},
     "output_type": "display_data"
    },
    {
     "name": "stdout",
     "output_type": "stream",
     "text": [
      "\n",
      "\n",
      "{'ART_AND_DESIGN': 57, 'AUTO_AND_VEHICLES': 82, 'BEAUTY': 53, 'BOOKS_AND_REFERENCE': 190, 'BUSINESS': 407, 'COMICS': 51, 'COMMUNICATION': 287, 'DATING': 164, 'EDUCATION': 103, 'ENTERTAINMENT': 84, 'EVENTS': 63, 'FINANCE': 327, 'FOOD_AND_DRINK': 109, 'HEALTH_AND_FITNESS': 272, 'HOUSE_AND_HOME': 71, 'LIBRARIES_AND_DEMO': 82, 'LIFESTYLE': 345, 'GAME': 850, 'FAMILY': 1665, 'MEDICAL': 312, 'SOCIAL': 236, 'SHOPPING': 199, 'PHOTOGRAPHY': 261, 'SPORTS': 295, 'TRAVEL_AND_LOCAL': 207, 'TOOLS': 745, 'PERSONALIZATION': 290, 'PRODUCTIVITY': 345, 'PARENTING': 57, 'WEATHER': 71, 'VIDEO_PLAYERS': 158, 'NEWS_AND_MAGAZINES': 248, 'MAPS_AND_NAVIGATION': 123}\n"
     ]
    }
   ],
   "source": [
    "# Print frequency distribution of various genres\n",
    "printmd('**Frequency of various genres in App Store**:')\n",
    "print('\\n')\n",
    "print(freq_table(Free_ios, -5))\n",
    "print('\\n')\n",
    "printmd('**Frequency of various genres in Google Play**:')\n",
    "print('\\n')\n",
    "print(freq_table(Free_android, 1))"
   ]
  },
  {
   "cell_type": "code",
   "execution_count": 54,
   "metadata": {},
   "outputs": [],
   "source": [
    "# Write a function, which sorts values in the dataset in the descending order and computes \n",
    "# frequency percentage of index values\n",
    "def display_table(dataset, index):\n",
    "    table = freq_table(dataset, index) # create a dictionary to refer to\n",
    "    table_display = [] # create a list of tuples, which can be then sorted\n",
    "    total = 0  # total for computing the percantage share of each value\n",
    "    for key in table:\n",
    "        key_val_as_tuple = (table[key], key)   # create tuples with numeric values and keys,\n",
    "                                               # which can then be sorted\n",
    "        table_display.append(key_val_as_tuple)\n",
    "        total += table[key]\n",
    "\n",
    "    table_sorted = sorted(table_display, reverse = True) # sort list of tuples in descending order\n",
    "    for entry in table_sorted:                           # print each key with corresponding percentages\n",
    "        print(entry[1], ':', round(entry[0]/total*100,2), '(%)')"
   ]
  },
  {
   "cell_type": "code",
   "execution_count": 55,
   "metadata": {},
   "outputs": [
    {
     "data": {
      "text/markdown": [
       "**Frequency percentage of various genres in App Store**:"
      ],
      "text/plain": [
       "<IPython.core.display.Markdown object>"
      ]
     },
     "metadata": {},
     "output_type": "display_data"
    },
    {
     "name": "stdout",
     "output_type": "stream",
     "text": [
      "\n",
      "\n",
      "Games : 58.44 (%)\n",
      "Entertainment : 7.89 (%)\n",
      "Photo & Video : 5.03 (%)\n",
      "Education : 3.71 (%)\n",
      "Social Networking : 3.27 (%)\n",
      "Shopping : 2.51 (%)\n",
      "Utilities : 2.42 (%)\n",
      "Sports : 2.17 (%)\n",
      "Music : 2.04 (%)\n",
      "Health & Fitness : 2.04 (%)\n",
      "Productivity : 1.7 (%)\n",
      "Lifestyle : 1.54 (%)\n",
      "News : 1.35 (%)\n",
      "Travel : 1.16 (%)\n",
      "Finance : 1.1 (%)\n",
      "Weather : 0.88 (%)\n",
      "Food & Drink : 0.82 (%)\n",
      "Reference : 0.53 (%)\n",
      "Business : 0.53 (%)\n",
      "Book : 0.38 (%)\n",
      "Navigation : 0.19 (%)\n",
      "Medical : 0.19 (%)\n",
      "Catalogs : 0.13 (%)\n"
     ]
    }
   ],
   "source": [
    "printmd('**Frequency percentage of various genres in App Store**:')\n",
    "print('\\n')\n",
    "display_table(Free_ios, 11)"
   ]
  },
  {
   "cell_type": "code",
   "execution_count": 56,
   "metadata": {},
   "outputs": [
    {
     "data": {
      "text/markdown": [
       "**Frequency percentage of various categories in Google Play**:"
      ],
      "text/plain": [
       "<IPython.core.display.Markdown object>"
      ]
     },
     "metadata": {},
     "output_type": "display_data"
    },
    {
     "name": "stdout",
     "output_type": "stream",
     "text": [
      "\n",
      "\n",
      "FAMILY : 18.9 (%)\n",
      "GAME : 9.65 (%)\n",
      "TOOLS : 8.46 (%)\n",
      "BUSINESS : 4.62 (%)\n",
      "PRODUCTIVITY : 3.92 (%)\n",
      "LIFESTYLE : 3.92 (%)\n",
      "FINANCE : 3.71 (%)\n",
      "MEDICAL : 3.54 (%)\n",
      "SPORTS : 3.35 (%)\n",
      "PERSONALIZATION : 3.29 (%)\n",
      "COMMUNICATION : 3.26 (%)\n",
      "HEALTH_AND_FITNESS : 3.09 (%)\n",
      "PHOTOGRAPHY : 2.96 (%)\n",
      "NEWS_AND_MAGAZINES : 2.82 (%)\n",
      "SOCIAL : 2.68 (%)\n",
      "TRAVEL_AND_LOCAL : 2.35 (%)\n",
      "SHOPPING : 2.26 (%)\n",
      "BOOKS_AND_REFERENCE : 2.16 (%)\n",
      "DATING : 1.86 (%)\n",
      "VIDEO_PLAYERS : 1.79 (%)\n",
      "MAPS_AND_NAVIGATION : 1.4 (%)\n",
      "FOOD_AND_DRINK : 1.24 (%)\n",
      "EDUCATION : 1.17 (%)\n",
      "ENTERTAINMENT : 0.95 (%)\n",
      "LIBRARIES_AND_DEMO : 0.93 (%)\n",
      "AUTO_AND_VEHICLES : 0.93 (%)\n",
      "WEATHER : 0.81 (%)\n",
      "HOUSE_AND_HOME : 0.81 (%)\n",
      "EVENTS : 0.72 (%)\n",
      "PARENTING : 0.65 (%)\n",
      "ART_AND_DESIGN : 0.65 (%)\n",
      "BEAUTY : 0.6 (%)\n",
      "COMICS : 0.58 (%)\n"
     ]
    }
   ],
   "source": [
    "printmd('**Frequency percentage of various categories in Google Play**:')\n",
    "print('\\n')\n",
    "display_table(Free_android, 1)"
   ]
  },
  {
   "cell_type": "code",
   "execution_count": 57,
   "metadata": {},
   "outputs": [
    {
     "data": {
      "text/markdown": [
       "**Frequency percentage of various genres in Google Play**:"
      ],
      "text/plain": [
       "<IPython.core.display.Markdown object>"
      ]
     },
     "metadata": {},
     "output_type": "display_data"
    },
    {
     "name": "stdout",
     "output_type": "stream",
     "text": [
      "\n",
      "\n",
      "Tools : 8.45 (%)\n",
      "Entertainment : 6.06 (%)\n",
      "Education : 5.37 (%)\n",
      "Business : 4.62 (%)\n",
      "Productivity : 3.92 (%)\n",
      "Lifestyle : 3.91 (%)\n",
      "Finance : 3.71 (%)\n",
      "Medical : 3.54 (%)\n",
      "Sports : 3.42 (%)\n",
      "Personalization : 3.29 (%)\n",
      "Communication : 3.26 (%)\n",
      "Health & Fitness : 3.09 (%)\n",
      "Action : 3.09 (%)\n",
      "Photography : 2.96 (%)\n",
      "News & Magazines : 2.82 (%)\n",
      "Social : 2.68 (%)\n",
      "Travel & Local : 2.34 (%)\n",
      "Shopping : 2.26 (%)\n",
      "Books & Reference : 2.16 (%)\n",
      "Simulation : 2.04 (%)\n",
      "Dating : 1.86 (%)\n",
      "Arcade : 1.83 (%)\n",
      "Video Players & Editors : 1.77 (%)\n",
      "Casual : 1.74 (%)\n",
      "Maps & Navigation : 1.4 (%)\n",
      "Food & Drink : 1.24 (%)\n",
      "Puzzle : 1.14 (%)\n",
      "Racing : 1.0 (%)\n",
      "Role Playing : 0.94 (%)\n",
      "Libraries & Demo : 0.93 (%)\n",
      "Auto & Vehicles : 0.93 (%)\n",
      "Strategy : 0.91 (%)\n",
      "Weather : 0.81 (%)\n",
      "House & Home : 0.81 (%)\n",
      "Events : 0.72 (%)\n",
      "Adventure : 0.66 (%)\n",
      "Beauty : 0.6 (%)\n",
      "Art & Design : 0.6 (%)\n",
      "Comics : 0.57 (%)\n",
      "Parenting : 0.5 (%)\n",
      "Card : 0.44 (%)\n",
      "Trivia : 0.41 (%)\n",
      "Casino : 0.41 (%)\n",
      "Educational;Education : 0.4 (%)\n",
      "Board : 0.39 (%)\n",
      "Educational : 0.37 (%)\n",
      "Education;Education : 0.34 (%)\n",
      "Word : 0.26 (%)\n",
      "Casual;Pretend Play : 0.24 (%)\n",
      "Music : 0.2 (%)\n",
      "Racing;Action & Adventure : 0.17 (%)\n",
      "Puzzle;Brain Games : 0.17 (%)\n",
      "Entertainment;Music & Video : 0.17 (%)\n",
      "Casual;Brain Games : 0.14 (%)\n",
      "Casual;Action & Adventure : 0.14 (%)\n",
      "Arcade;Action & Adventure : 0.12 (%)\n",
      "Action;Action & Adventure : 0.1 (%)\n",
      "Educational;Pretend Play : 0.09 (%)\n",
      "Simulation;Action & Adventure : 0.08 (%)\n",
      "Parenting;Education : 0.08 (%)\n",
      "Entertainment;Brain Games : 0.08 (%)\n",
      "Educational;Brain Games : 0.07 (%)\n",
      "Casual;Creativity : 0.07 (%)\n",
      "Art & Design;Creativity : 0.07 (%)\n",
      "Parenting;Music & Video : 0.06 (%)\n",
      "Education;Pretend Play : 0.06 (%)\n",
      "Board;Brain Games : 0.06 (%)\n",
      "Role Playing;Pretend Play : 0.05 (%)\n",
      "Education;Creativity : 0.05 (%)\n",
      "Role Playing;Action & Adventure : 0.03 (%)\n",
      "Puzzle;Action & Adventure : 0.03 (%)\n",
      "Entertainment;Creativity : 0.03 (%)\n",
      "Entertainment;Action & Adventure : 0.03 (%)\n",
      "Educational;Creativity : 0.03 (%)\n",
      "Educational;Action & Adventure : 0.03 (%)\n",
      "Education;Music & Video : 0.03 (%)\n",
      "Education;Brain Games : 0.03 (%)\n",
      "Education;Action & Adventure : 0.03 (%)\n",
      "Adventure;Action & Adventure : 0.03 (%)\n",
      "Video Players & Editors;Music & Video : 0.02 (%)\n",
      "Sports;Action & Adventure : 0.02 (%)\n",
      "Simulation;Pretend Play : 0.02 (%)\n",
      "Puzzle;Creativity : 0.02 (%)\n",
      "Music;Music & Video : 0.02 (%)\n",
      "Entertainment;Pretend Play : 0.02 (%)\n",
      "Casual;Education : 0.02 (%)\n",
      "Board;Action & Adventure : 0.02 (%)\n",
      "Video Players & Editors;Creativity : 0.01 (%)\n",
      "Trivia;Education : 0.01 (%)\n",
      "Travel & Local;Action & Adventure : 0.01 (%)\n",
      "Tools;Education : 0.01 (%)\n",
      "Strategy;Education : 0.01 (%)\n",
      "Strategy;Creativity : 0.01 (%)\n",
      "Strategy;Action & Adventure : 0.01 (%)\n",
      "Simulation;Education : 0.01 (%)\n",
      "Role Playing;Brain Games : 0.01 (%)\n",
      "Racing;Pretend Play : 0.01 (%)\n",
      "Puzzle;Education : 0.01 (%)\n",
      "Parenting;Brain Games : 0.01 (%)\n",
      "Music & Audio;Music & Video : 0.01 (%)\n",
      "Lifestyle;Pretend Play : 0.01 (%)\n",
      "Lifestyle;Education : 0.01 (%)\n",
      "Health & Fitness;Education : 0.01 (%)\n",
      "Health & Fitness;Action & Adventure : 0.01 (%)\n",
      "Entertainment;Education : 0.01 (%)\n",
      "Communication;Creativity : 0.01 (%)\n",
      "Comics;Creativity : 0.01 (%)\n",
      "Casual;Music & Video : 0.01 (%)\n",
      "Card;Action & Adventure : 0.01 (%)\n",
      "Books & Reference;Education : 0.01 (%)\n",
      "Art & Design;Pretend Play : 0.01 (%)\n",
      "Art & Design;Action & Adventure : 0.01 (%)\n",
      "Arcade;Pretend Play : 0.01 (%)\n",
      "Adventure;Education : 0.01 (%)\n"
     ]
    }
   ],
   "source": [
    "printmd('**Frequency percentage of various genres in Google Play**:')\n",
    "print('\\n')\n",
    "display_table(Free_android, 9)"
   ]
  },
  {
   "cell_type": "markdown",
   "metadata": {},
   "source": [
    "From the analysis of the App Store datatset we may conclude the following:\n",
    "<br>\n",
    "- Among iOS apps we may see that by the number of free apps accessible games are the most common genre among the users. The runner-up is entertainment, but the difference is huge as compared to the former - 254 vs. 1874 free apps. \n",
    "- The frequency data is heavily skewed to the right with four of out of top five apps designed for entertainment purposes and only one for education. The rest of genres constitutes a minority in the distribution. \n",
    "- The frequency of different genres doesn't have much explanatory power for their popularity, but might be a representative proxy for market saturation. Some apps might be used just within a short period of time and then deleted, while others are utilized on the daily basis - especially those of education, sports, finance and other less frequent genres in terms of the number of apps within each one. Therefore, we need **alternative metrics** to measure genres popularity, i.e. the most promising types of apps to develop."
   ]
  },
  {
   "cell_type": "markdown",
   "metadata": {},
   "source": [
    "From the analysis of the Google Play datatset we may conclude the following:\n",
    "<br>\n",
    "- Both entertainment and apps for certain purposes are quite frequent among Google Play freely distributed apps. In the top five genres four are designed rather for practical purposes, while only one for entertainment.\n",
    "- The frequency data is more or less equally distributed among various genres, without ubiquitous domination of one particular type. It is quite different from what we have seen in the App Store free apps dataset.\n",
    "- Free apps designed for practical purposes are evidently more popular among Android users, but we still can make no inferences about popularity of certain genres. It is only possible to conclude that iOS apps developers are likely to be more prone to develop products for entertainment, as compared to their Android counterparts."
   ]
  },
  {
   "cell_type": "markdown",
   "metadata": {},
   "source": [
    "From the above analysis we have found out that it might be reasonable to find an alternative measure to explore, which app genres are most popular, so that potential developers can use this information to target the market segments better.\n",
    "- For Apple Store the total number of **rating actions** within each genre is accessible in the related dataset, which could be a proxy of genre popularity.\n",
    "- For Google Play the total number of **app installations** within each genre is available, which could be an alternative proxy of genre popularity.\n",
    "<br><br>\n",
    "\n",
    "**First**, we start by looking at the percentage frequency of each genre within our datasets in descending order and look for intersections, as those genres are more likely to be promising in both stores, i.e. to be popular among both groups of users."
   ]
  },
  {
   "cell_type": "code",
   "execution_count": 58,
   "metadata": {},
   "outputs": [
    {
     "data": {
      "text/markdown": [
       "**Percentage share in the total number of rating actions on iOS devices**:"
      ],
      "text/plain": [
       "<IPython.core.display.Markdown object>"
      ]
     },
     "metadata": {},
     "output_type": "display_data"
    },
    {
     "name": "stdout",
     "output_type": "stream",
     "text": [
      "Navigation : 11.8 (%)\n",
      "Reference : 10.87 (%)\n",
      "Social Networking : 9.99 (%)\n",
      "Music : 7.98 (%)\n",
      "Weather : 7.16 (%)\n",
      "Book : 6.36 (%)\n",
      "Food & Drink : 4.57 (%)\n",
      "Finance : 4.44 (%)\n",
      "Travel : 4.18 (%)\n",
      "Photo & Video : 3.9 (%)\n",
      "Shopping : 3.81 (%)\n",
      "Health & Fitness : 3.19 (%)\n",
      "Sports : 3.15 (%)\n",
      "Games : 3.15 (%)\n",
      "Productivity : 2.99 (%)\n",
      "News : 2.91 (%)\n",
      "Utilities : 2.69 (%)\n",
      "Lifestyle : 2.29 (%)\n",
      "Entertainment : 1.95 (%)\n",
      "Business : 1.03 (%)\n",
      "Education : 0.96 (%)\n",
      "Catalogs : 0.55 (%)\n",
      "Medical : 0.08 (%)\n"
     ]
    }
   ],
   "source": [
    "printmd('**Percentage share in the total number of rating actions on iOS devices**:')\n",
    "iOS_genres = freq_table(Free_ios, -5) # create a dictionary with genre names as keys and \n",
    "                                      # their frequences\n",
    "\n",
    "iOS_table = [] # create list of tuples for subsequent sorting\n",
    "\n",
    "for genre in iOS_genres: # run nested loop to calculate the average amount of rating actions\n",
    "                         # in each genre\n",
    "    total = 0\n",
    "    len_genre = 0\n",
    "    \n",
    "    for i in Free_ios:\n",
    "        genre_app = i[-5]\n",
    "        if genre_app == genre:\n",
    "            number_of_ratings = float(i[5])\n",
    "            total += number_of_ratings\n",
    "            len_genre += 1\n",
    "    average = total/len_genre\n",
    "    table_tuple = (average, genre)\n",
    "    iOS_table.append(table_tuple)\n",
    "\n",
    "total_ratings = 0 # Calculate the total number of rating actions\n",
    "\n",
    "for i in iOS_table:\n",
    "    total_ratings += float(i[0])\n",
    "\n",
    "table_sorted = sorted(iOS_table, reverse = True) # sort values of keys in descending order and \n",
    "                                                 # print each row in the list\n",
    "for entry in table_sorted:\n",
    "        print(entry[1], ':', round(entry[0]/total_ratings*100, 2),'(%)')"
   ]
  },
  {
   "cell_type": "markdown",
   "metadata": {},
   "source": [
    "   The proposed measure of defining the most popular genres among iOS users shows that apps for **practical purposes** are dominating the landscape, and therefore the popularity of such apps can be defined to a greater extent by the practical solutions they provide to their users. It is possible to see that Reference, Navigation and Social Networking compise the most frequently rated apps in the Apple Store, though the difference with other genres is not that large.\n",
    "   <br>\n",
    "   <br>\n",
    "   It is noteworthy that games comprise only 3.21% of the total number of app ratings, which supports to some extent our previous hypothesis that the number of apps within each category doesn't say much about genre popularity. However, additional measures are needed for complete validation, e.g. the amount of time spent by users in apps of different genres."
   ]
  },
  {
   "cell_type": "code",
   "execution_count": 59,
   "metadata": {},
   "outputs": [
    {
     "data": {
      "text/markdown": [
       "**Percentage share in the total number of installments on Android devices**:"
      ],
      "text/plain": [
       "<IPython.core.display.Markdown object>"
      ]
     },
     "metadata": {},
     "output_type": "display_data"
    },
    {
     "name": "stdout",
     "output_type": "stream",
     "text": [
      "COMMUNICATION : 15.97 (%)\n",
      "VIDEO_PLAYERS : 10.33 (%)\n",
      "SOCIAL : 9.65 (%)\n",
      "PHOTOGRAPHY : 7.41 (%)\n",
      "PRODUCTIVITY : 6.97 (%)\n",
      "GAME : 6.46 (%)\n",
      "TRAVEL_AND_LOCAL : 5.81 (%)\n",
      "ENTERTAINMENT : 4.89 (%)\n",
      "TOOLS : 4.51 (%)\n",
      "NEWS_AND_MAGAZINES : 3.96 (%)\n",
      "BOOKS_AND_REFERENCE : 3.64 (%)\n",
      "SHOPPING : 2.92 (%)\n",
      "PERSONALIZATION : 2.19 (%)\n",
      "WEATHER : 2.11 (%)\n",
      "HEALTH_AND_FITNESS : 1.75 (%)\n",
      "MAPS_AND_NAVIGATION : 1.68 (%)\n",
      "FAMILY : 1.54 (%)\n",
      "SPORTS : 1.54 (%)\n",
      "ART_AND_DESIGN : 0.82 (%)\n",
      "FOOD_AND_DRINK : 0.8 (%)\n",
      "EDUCATION : 0.76 (%)\n",
      "BUSINESS : 0.71 (%)\n",
      "LIFESTYLE : 0.6 (%)\n",
      "HOUSE_AND_HOME : 0.57 (%)\n",
      "FINANCE : 0.57 (%)\n",
      "COMICS : 0.36 (%)\n",
      "DATING : 0.36 (%)\n",
      "AUTO_AND_VEHICLES : 0.27 (%)\n",
      "LIBRARIES_AND_DEMO : 0.27 (%)\n",
      "PARENTING : 0.23 (%)\n",
      "BEAUTY : 0.21 (%)\n",
      "EVENTS : 0.11 (%)\n",
      "MEDICAL : 0.05 (%)\n"
     ]
    }
   ],
   "source": [
    "printmd('**Percentage share in the total number of installments on Android devices**:')\n",
    "Andriod_genres = freq_table(Free_android, 1) # create a dictionary with genre names as keys \n",
    "                                             # and their frequences\n",
    "\n",
    "Android_table = [] # create list of tuples for subsequent sorting\n",
    "\n",
    "for category in Andriod_genres: # run nested loop to calculate the \n",
    "                                # average amount of installations in each genre\n",
    "    total = 0\n",
    "    len_category = 0\n",
    "    \n",
    "    for i in Free_android:\n",
    "        category_app = i[1]\n",
    "        if category_app == category:\n",
    "            number_of_installs = i[5]\n",
    "            number_of_installs = number_of_installs.replace('+', '') # we need to get rid of \n",
    "                                                    # non-integer signs to calculate averages\n",
    "            number_of_installs = number_of_installs.replace(',', '')\n",
    "            total += float(number_of_installs)\n",
    "            len_category += 1\n",
    "    average = total/len_category\n",
    "    \n",
    "    table_tuple = (average, category)\n",
    "    Android_table.append(table_tuple)\n",
    "\n",
    "    \n",
    "for i in Free_android:      # get rid of non-numeric signs in the amount of installations \n",
    "                            # in the dataset itself\n",
    "    i[5] = i[5].replace('+', '')\n",
    "    i[5] = i[5].replace(',', '')\n",
    "    \n",
    "    \n",
    "total_installations = 0  # Calculate the total number of installations\n",
    "\n",
    "for i in Android_table:\n",
    "    total_installations += float(i[0])\n",
    "\n",
    "table_sorted = sorted(Android_table, reverse = True) # sort values of keys in descending \n",
    "                                                     # order and print each row in the list\n",
    "for entry in table_sorted:\n",
    "        print(entry[1], ':', round(entry[0]/total_installations*100, 2),'(%)')"
   ]
  },
  {
   "cell_type": "markdown",
   "metadata": {},
   "source": [
    "   The proposed measure of defining the most popular genres among Android users shows that apps for practical purposes and entertainment are both quite frequently installed by users. Our metric indicates that two of the three most common genres are related to social communication, comprising nearly 26% of the total number of installations. \n",
    "    <br>\n",
    "    <br>\n",
    "    In the calculations of percentage frequences we found out that the respective numbers are not given in precise figures, but rather as levels - e.g. 1000+, 500+ etc. This makes our calculated percentages less precise as well, turning them into approximate numbers.\n",
    "    <br>\n",
    "    <br>\n",
    "   These results are also quite different from what we have seen when counted the number of apps within each genre. Tools, Entertainment and Education are not in the top three anymore, though they are quite close to that level."
   ]
  },
  {
   "cell_type": "markdown",
   "metadata": {},
   "source": [
    "   On sum, we have seen that measuring app genres popularity among users by the number of apps within each genre, the number of ratings given and installations yields different results, though the latter two measures should presumably be closer to the real state of affairs. Out of available data we may conclude that apps being developed in such genres as **social networking** and **communication** are likely to enjoy more popularity among users, while those related to **books** and **reference** might be the second best choice on average both in App Store and Google Play. **Navigation** might also be of interest if concentrating more on the prospects on the iOS apps market. \n"
   ]
  },
  {
   "cell_type": "markdown",
   "metadata": {},
   "source": [
    "**Second**, it is necessary to explore the competitive landscape within each genre of interest pointed out above. We begin with social networking and communication, which are more popular genres among iOS based and Android based smart phone users according to our results. By considering the share of each app in the total number of rating actions for iOS apps and the total number of installations for Android apps we may figure out whether the market structure is concentrated, i.e. more like an oligopolistic one. If true, this in turn should imply that it would be harder to gain a market share for new entrants. At the same time we may also take a look at ratings of different apps within each category - it can be considered as an additional facet of measuring popularity and as an indicator of in-app purchases probability."
   ]
  },
  {
   "cell_type": "code",
   "execution_count": 60,
   "metadata": {},
   "outputs": [
    {
     "data": {
      "text/markdown": [
       "**iOS apps share in App Store Social Networking genre**"
      ],
      "text/plain": [
       "<IPython.core.display.Markdown object>"
      ]
     },
     "metadata": {},
     "output_type": "display_data"
    },
    {
     "name": "stdout",
     "output_type": "stream",
     "text": [
      "\n",
      "\n",
      "Total number of apps: 104\n",
      "\n",
      "\n",
      "Facebook : 39.23 (%) | User rating: 3.5\n",
      "Pinterest : 14.0 (%) | User rating: 4.5\n",
      "Skype for iPhone : 4.93 (%) | User rating: 3.5\n",
      "Messenger : 4.63 (%) | User rating: 3.0\n",
      "Tumblr : 4.41 (%) | User rating: 4.0\n",
      "WhatsApp Messenger : 3.79 (%) | User rating: 4.5\n",
      "Kik : 3.44 (%) | User rating: 4.0\n",
      "ooVoo – Free Video Call, Text and Voice : 2.34 (%) | User rating: 4.5\n",
      "TextNow - Unlimited Text + Calls : 2.18 (%) | User rating: 3.5\n",
      "Viber Messenger – Text & Call : 2.17 (%) | User rating: 4.5\n",
      "Followers - Social Analytics For Instagram : 1.49 (%) | User rating: 4.5\n",
      "MeetMe - Chat and Meet New People : 1.28 (%) | User rating: 4.0\n",
      "We Heart It - Fashion, wallpapers, quotes, tattoos : 1.19 (%) | User rating: 5.0\n",
      "InsTrack for Instagram - Analytics Plus More : 1.13 (%) | User rating: 4.5\n",
      "Tango - Free Video Call, Voice and Chat : 0.99 (%) | User rating: 4.5\n",
      "LinkedIn : 0.95 (%) | User rating: 3.5\n",
      "Match™ - #1 Dating App. : 0.8 (%) | User rating: 3.0\n",
      "Skype for iPad : 0.79 (%) | User rating: 4.0\n",
      "POF - Best Dating App for Conversations : 0.69 (%) | User rating: 3.5\n",
      "Timehop : 0.65 (%) | User rating: 3.5\n"
     ]
    }
   ],
   "source": [
    "# Calculate frequency percentages for each app within its genre and sort \n",
    "# results in the descending order for representation\n",
    "Social_Networking = []\n",
    "App_name = []\n",
    "Value = []\n",
    "Rating = []\n",
    "for i in Free_ios:\n",
    "    if i[-5] == 'Social Networking':\n",
    "        Value = float(i[5]) # store the amount of app rating actions\n",
    "        App_name = i[1]     # store app's name\n",
    "        Rating = i[7]       # store app's rating\n",
    "        Row = (Value, App_name, Rating)  # create tuple for sorting\n",
    "        Social_Networking.append(Row)\n",
    "     \n",
    "total = 0\n",
    "for i in Social_Networking:\n",
    "    total += float(i[0])\n",
    "    \n",
    "table_sorted = sorted(Social_Networking, reverse = True)\n",
    "printmd('**iOS apps share in App Store Social Networking genre**')\n",
    "print('\\n')\n",
    "print('Total number of apps:', len(table_sorted))\n",
    "print('\\n')\n",
    "for entry in table_sorted[:20]:\n",
    "        print(entry[1], ':', round(float(entry[0])/total*100, 2),'(%)','|','User rating:',entry[2])"
   ]
  },
  {
   "cell_type": "code",
   "execution_count": 61,
   "metadata": {},
   "outputs": [
    {
     "data": {
      "text/markdown": [
       "**Android apps share in Google Play Communication genre**"
      ],
      "text/plain": [
       "<IPython.core.display.Markdown object>"
      ]
     },
     "metadata": {},
     "output_type": "display_data"
    },
    {
     "name": "stdout",
     "output_type": "stream",
     "text": [
      "\n",
      "\n",
      "Total number of apps: 287\n",
      "\n",
      "\n",
      "WhatsApp Messenger : 9.06 (%) | User rating: 4.4\n",
      "Skype - free IM & video calls : 9.06 (%) | User rating: 4.1\n",
      "Messenger – Text and Video Chat for Free : 9.06 (%) | User rating: 4.0\n",
      "Hangouts : 9.06 (%) | User rating: 4.0\n",
      "Google Chrome: Fast & Secure : 9.06 (%) | User rating: 4.3\n",
      "Gmail : 9.06 (%) | User rating: 4.3\n",
      "imo free video calls and chat : 4.53 (%) | User rating: 4.3\n",
      "Viber Messenger : 4.53 (%) | User rating: 4.3\n",
      "UC Browser - Fast Download Private & Secure : 4.53 (%) | User rating: 4.5\n",
      "LINE: Free Calls & Messages : 4.53 (%) | User rating: 4.2\n",
      "Google Duo - High Quality Video Calls : 4.53 (%) | User rating: 4.6\n",
      "imo beta free calls and text : 0.91 (%) | User rating: 4.3\n",
      "Yahoo Mail – Stay Organized : 0.91 (%) | User rating: 4.3\n",
      "Who : 0.91 (%) | User rating: 4.3\n",
      "WeChat : 0.91 (%) | User rating: 4.2\n",
      "UC Browser Mini -Tiny Fast Private & Secure : 0.91 (%) | User rating: 4.4\n",
      "Truecaller: Caller ID, SMS spam blocking & Dialer : 0.91 (%) | User rating: 4.5\n",
      "Telegram : 0.91 (%) | User rating: 4.4\n",
      "Opera Mini - fast web browser : 0.91 (%) | User rating: 4.5\n",
      "Opera Browser: Fast and Secure : 0.91 (%) | User rating: 4.4\n"
     ]
    }
   ],
   "source": [
    "# Calculate frequency percentages for each app within its genre and sort results \n",
    "# in the descending order for representation\n",
    "COMMUNICATION = []\n",
    "App_name = []\n",
    "Value = []\n",
    "Rating = []\n",
    "for i in Free_android:\n",
    "    if i[1] == 'COMMUNICATION':\n",
    "        Value = float(i[5]) # store the amount of app's installations\n",
    "        App_name = i[0]     # store app's name\n",
    "        Rating = i[2]       # store app's rating\n",
    "        Row = (Value, App_name, Rating)    # create tuple for sorting\n",
    "        COMMUNICATION.append(Row)\n",
    "        \n",
    "total = 0\n",
    "for i in COMMUNICATION:\n",
    "    total += float(i[0])\n",
    "    \n",
    "table_sorted = sorted(COMMUNICATION, reverse = True)\n",
    "printmd('**Android apps share in Google Play Communication genre**')\n",
    "print('\\n')\n",
    "print('Total number of apps:', len(table_sorted))\n",
    "print('\\n')\n",
    "for entry in table_sorted[:20]:\n",
    "        print(entry[1], ':', round(float(entry[0])/total*100, 2),'(%)','|','User rating:',entry[2])"
   ]
  },
  {
   "cell_type": "code",
   "execution_count": 62,
   "metadata": {},
   "outputs": [
    {
     "data": {
      "text/markdown": [
       "**Android apps share in Google Play Social genre**"
      ],
      "text/plain": [
       "<IPython.core.display.Markdown object>"
      ]
     },
     "metadata": {},
     "output_type": "display_data"
    },
    {
     "name": "stdout",
     "output_type": "stream",
     "text": [
      "\n",
      "\n",
      "Total number of apps: 236\n",
      "\n",
      "\n",
      "Instagram : 18.22 (%) | User rating: 4.5\n",
      "Google+ : 18.22 (%) | User rating: 4.2\n",
      "Facebook : 18.22 (%) | User rating: 4.1\n",
      "Snapchat : 9.11 (%) | User rating: 4.0\n",
      "Facebook Lite : 9.11 (%) | User rating: 4.3\n",
      "VK : 1.82 (%) | User rating: 3.8\n",
      "Tumblr : 1.82 (%) | User rating: 4.4\n",
      "Tik Tok - including musical.ly : 1.82 (%) | User rating: 4.4\n",
      "Tango - Live Video Broadcast : 1.82 (%) | User rating: 4.3\n",
      "Pinterest : 1.82 (%) | User rating: 4.6\n",
      "LinkedIn : 1.82 (%) | User rating: 4.2\n",
      "Badoo - Free Chat & Dating App : 1.82 (%) | User rating: 4.3\n",
      "BIGO LIVE - Live Stream : 1.82 (%) | User rating: 4.4\n",
      "ooVoo Video Calls, Messaging & Stories : 0.91 (%) | User rating: 4.3\n",
      "Zello PTT Walkie Talkie : 0.91 (%) | User rating: 4.4\n",
      "SKOUT - Meet, Chat, Go Live : 0.91 (%) | User rating: 4.3\n",
      "POF Free Dating App : 0.91 (%) | User rating: 4.2\n",
      "MeetMe: Chat & Meet New People : 0.91 (%) | User rating: 4.2\n",
      "textPlus: Free Text & Calls : 0.18 (%) | User rating: 4.1\n",
      "magicApp Calling & Messaging : 0.18 (%) | User rating: 4.1\n"
     ]
    }
   ],
   "source": [
    "SOCIAL = []\n",
    "App_name = []\n",
    "Value = []\n",
    "Rating = []\n",
    "for i in Free_android:\n",
    "    if i[1] == 'SOCIAL':\n",
    "        Value = float(i[5])\n",
    "        App_name = i[0]\n",
    "        Rating = i[2]\n",
    "        Row = (Value, App_name, Rating)\n",
    "        SOCIAL.append(Row)\n",
    "        \n",
    "total = 0\n",
    "for i in SOCIAL:\n",
    "    total += float(i[0])\n",
    "    \n",
    "table_sorted = sorted(SOCIAL, reverse = True)\n",
    "printmd('**Android apps share in Google Play Social genre**')\n",
    "print('\\n')\n",
    "print('Total number of apps:', len(table_sorted))\n",
    "print('\\n')\n",
    "for entry in table_sorted[:20]:\n",
    "        print(entry[1], ':', round(float(entry[0])/total*100, 2),'(%)','|','User rating:',entry[2])"
   ]
  },
  {
   "cell_type": "markdown",
   "metadata": {},
   "source": [
    "Despite its average user rating, among iOS apps Facebook has almost 40% of all ratings given to apps in Social Networking genre, its closest rival, - Pininterest, - has only 14%, and all the others' share is way smaller compared to the former. A more fragmented competitive landscape can be observed in Google Play Store - in both genres, which roughly correspond to Social Networking genre in Apple Store there are several leaders besides Facebook, many of which are Google products. Nevertheless, even here we may see that top five apps are installed in nearly 50% of cases, which implies high market concentration and the market power of those apps affiliated with Google and Apple. Moreover, the market for the social communication genre seems to be already saturated, as there are over 100 apps in Apple Store and more than 500 apps in Google Play Store, satisfying various demands in this market. All in all, it is **not recommended** to develop a new app in this category - the risks of failure to gain users and certain market share are very high.\n",
    "<br>\n",
    "<br>\n",
    "Let's proceed further with apps related to reading books and references."
   ]
  },
  {
   "cell_type": "code",
   "execution_count": 63,
   "metadata": {},
   "outputs": [
    {
     "data": {
      "text/markdown": [
       "**Android apps share in Google Play Book & Reference genre**"
      ],
      "text/plain": [
       "<IPython.core.display.Markdown object>"
      ]
     },
     "metadata": {},
     "output_type": "display_data"
    },
    {
     "name": "stdout",
     "output_type": "stream",
     "text": [
      "\n",
      "\n",
      "Total number of apps: 190\n",
      "\n",
      "\n",
      "Google Play Books : 60.03 (%) | User rating: 3.9\n",
      "Wattpad 📖 Free Books : 6.0 (%) | User rating: 4.6\n",
      "Bible : 6.0 (%) | User rating: 4.7\n",
      "Audiobooks from Audible : 6.0 (%) | User rating: 4.5\n",
      "Amazon Kindle : 6.0 (%) | User rating: 4.2\n",
      "Wikipedia : 0.6 (%) | User rating: 4.4\n",
      "Spanish English Translator : 0.6 (%) | User rating: 4.2\n",
      "Quran for Android : 0.6 (%) | User rating: 4.7\n",
      "Oxford Dictionary of English : Free : 0.6 (%) | User rating: 4.1\n",
      "NOOK: Read eBooks & Magazines : 0.6 (%) | User rating: 4.5\n",
      "Moon+ Reader : 0.6 (%) | User rating: 4.4\n",
      "JW Library : 0.6 (%) | User rating: 4.9\n",
      "HTC Help : 0.6 (%) | User rating: 4.2\n",
      "FBReader: Favorite Book Reader : 0.6 (%) | User rating: 4.5\n",
      "English Hindi Dictionary : 0.6 (%) | User rating: 4.4\n",
      "English Dictionary - Offline : 0.6 (%) | User rating: 4.4\n",
      "Dictionary.com: Find Definitions for English Words : 0.6 (%) | User rating: 4.6\n",
      "Dictionary - Merriam-Webster : 0.6 (%) | User rating: 4.5\n",
      "Dictionary : 0.6 (%) | User rating: 4.5\n",
      "Cool Reader : 0.6 (%) | User rating: 4.5\n"
     ]
    }
   ],
   "source": [
    "BOOKS_AND_REFERENCE = []\n",
    "App_name = []\n",
    "Value = []\n",
    "Rating = []\n",
    "for i in Free_android:\n",
    "    if i[1] == 'BOOKS_AND_REFERENCE':\n",
    "        Value = float(i[5])\n",
    "        App_name = i[0]\n",
    "        Rating = i[2]\n",
    "        Row = (Value, App_name, Rating)\n",
    "        BOOKS_AND_REFERENCE.append(Row)\n",
    "        \n",
    "total = 0\n",
    "for i in BOOKS_AND_REFERENCE:\n",
    "    total += float(i[0])\n",
    "    \n",
    "table_sorted = sorted(BOOKS_AND_REFERENCE, reverse = True)\n",
    "printmd('**Android apps share in Google Play Book & Reference genre**')\n",
    "print('\\n')\n",
    "print('Total number of apps:', len(table_sorted))\n",
    "print('\\n')\n",
    "for entry in table_sorted[:20]:\n",
    "        print(entry[1], ':', round(float(entry[0])/total*100, 2),'(%)','|','User rating:',entry[2])"
   ]
  },
  {
   "cell_type": "code",
   "execution_count": 64,
   "metadata": {},
   "outputs": [
    {
     "data": {
      "text/markdown": [
       "**iOS apps share in Apple Store Book genre**"
      ],
      "text/plain": [
       "<IPython.core.display.Markdown object>"
      ]
     },
     "metadata": {},
     "output_type": "display_data"
    },
    {
     "name": "stdout",
     "output_type": "stream",
     "text": [
      "\n",
      "\n",
      "Total number of apps: 12\n",
      "\n",
      "\n",
      "Kindle – Read eBooks, Magazines & Textbooks : 45.29 (%) | User rating: 3.5\n",
      "Audible – audio books, original series & podcasts : 18.91 (%) | User rating: 4.5\n",
      "Color Therapy Adult Coloring Book for Adults : 15.1 (%) | User rating: 5.0\n",
      "OverDrive – Library eBooks and Audiobooks : 11.76 (%) | User rating: 4.0\n",
      "HOOKED - Chat Stories : 8.59 (%) | User rating: 4.5\n",
      "BookShout: Read eBooks & Track Your Reading Goals : 0.16 (%) | User rating: 4.0\n",
      "Dr. Seuss Treasury — 50 best kids books : 0.08 (%) | User rating: 4.5\n",
      "Green Riding Hood : 0.07 (%) | User rating: 4.0\n",
      "Weirdwood Manor : 0.04 (%) | User rating: 4.5\n",
      "MangaZERO - comic reader : 0.0 (%) | User rating: 4.5\n",
      "ikouhoushi : 0.0 (%) | User rating: 0.0\n",
      "MangaTiara - love comic reader : 0.0 (%) | User rating: 0.0\n"
     ]
    }
   ],
   "source": [
    "Book = []\n",
    "App_name = []\n",
    "Value = []\n",
    "Rating = []\n",
    "for i in Free_ios:\n",
    "    if i[-5] == 'Book':\n",
    "        Value = float(i[5])\n",
    "        App_name = i[1]\n",
    "        Rating = i[7]\n",
    "        Row = (Value, App_name, Rating)\n",
    "        Book.append(Row)\n",
    "     \n",
    "total = 0\n",
    "for i in Book:\n",
    "    total += float(i[0])\n",
    "    \n",
    "table_sorted = sorted(Book, reverse = True)\n",
    "printmd('**iOS apps share in Apple Store Book genre**')\n",
    "print('\\n')\n",
    "print('Total number of apps:', len(table_sorted))\n",
    "print('\\n')\n",
    "for entry in table_sorted:\n",
    "        print(entry[1], ':', round(float(entry[0])/total*100, 2),'(%)','|','User rating:',entry[2])"
   ]
  },
  {
   "cell_type": "code",
   "execution_count": 65,
   "metadata": {},
   "outputs": [
    {
     "data": {
      "text/markdown": [
       "**iOS apps share in Apple Store Reference genre**"
      ],
      "text/plain": [
       "<IPython.core.display.Markdown object>"
      ]
     },
     "metadata": {},
     "output_type": "display_data"
    },
    {
     "name": "stdout",
     "output_type": "stream",
     "text": [
      "\n",
      "\n",
      "Total number of apps: 17\n",
      "\n",
      "\n",
      "Bible : 73.09 (%) | User rating: 4.5\n",
      "Dictionary.com Dictionary & Thesaurus : 14.83 (%) | User rating: 4.0\n",
      "Dictionary.com Dictionary & Thesaurus for iPad : 4.02 (%) | User rating: 4.5\n",
      "Google Translate : 1.99 (%) | User rating: 3.5\n",
      "Muslim Pro: Ramadan 2017 Prayer Times, Azan, Quran : 1.37 (%) | User rating: 4.5\n",
      "New Furniture Mods - Pocket Wiki & Game Tools for Minecraft PC Edition : 1.3 (%) | User rating: 4.5\n",
      "Merriam-Webster Dictionary : 1.25 (%) | User rating: 4.5\n",
      "Night Sky : 0.9 (%) | User rating: 4.5\n",
      "City Maps for Minecraft PE - The Best Maps for Minecraft Pocket Edition (MCPE) : 0.63 (%) | User rating: 4.0\n",
      "LUCKY BLOCK MOD ™ for Minecraft PC Edition - The Best Pocket Wiki & Mods Installer Tools : 0.35 (%) | User rating: 4.0\n",
      "GUNS MODS for Minecraft PC Edition - Mods Tools : 0.11 (%) | User rating: 4.0\n",
      "Guides for Pokémon GO - Pokemon GO News and Cheats : 0.06 (%) | User rating: 4.5\n",
      "WWDC : 0.06 (%) | User rating: 3.5\n",
      "Horror Maps for Minecraft PE - Download The Scariest Maps for Minecraft Pocket Edition (MCPE) Free : 0.05 (%) | User rating: 4.0\n",
      "VPN Express : 0.0 (%) | User rating: 4.5\n",
      "Real Bike Traffic Rider Virtual Reality Glasses : 0.0 (%) | User rating: 3.0\n",
      "Jishokun-Japanese English Dictionary & Translator : 0.0 (%) | User rating: 0.0\n"
     ]
    }
   ],
   "source": [
    "Reference = []\n",
    "App_name = []\n",
    "Value = []\n",
    "Rating = []\n",
    "for i in Free_ios:\n",
    "    if i[-5] == 'Reference':\n",
    "        Value = float(i[5])\n",
    "        App_name = i[1]\n",
    "        Rating = i[7]\n",
    "        Row = (Value, App_name, Rating)\n",
    "        Reference.append(Row)\n",
    "     \n",
    "total = 0\n",
    "for i in Reference:\n",
    "    total += float(i[0])\n",
    "    \n",
    "table_sorted = sorted(Reference, reverse = True)\n",
    "printmd('**iOS apps share in Apple Store Reference genre**')\n",
    "print('\\n')\n",
    "print('Total number of apps:', len(table_sorted))\n",
    "print('\\n')\n",
    "for entry in table_sorted:\n",
    "        print(entry[1], ':', round(float(entry[0])/total*100, 2),'(%)','|','User rating:',entry[2])"
   ]
  },
  {
   "cell_type": "markdown",
   "metadata": {},
   "source": [
    "A similar picture is observed in the Books & Reference genre for Android apps, where Google Play Books has 60% of installs and Book genre for iOS apps, where Kindle with its average user rating clearly dominates with 45% of times being rated within the category. At the same time, the smaller number of apps in Apple Store, - 29 vs. 189 in Google Play Store, - can be probably explained by the presence of Apple Books app available for iOS users. All in all, universal products of Apple and Google dominate the competitive landscape here.\n",
    "<br>\n",
    "<br>\n",
    "Nonethess, in the Reference genre of iOS apps we may see that there is one dominating app - **Bible** (also the third most popular app installed in Android smart phones - 6% of total installments within category). It has been rated 73% of times in this genre, while the total amount of apps is only 17 - this niche is likely **not saturated** yet. In addition, there are other apps in this category, which are designed for specific books or games - Quran and Minecraft. The fact that the app for using **Bible stands out** so much is revealing - it could be a good idea to develop a similar app geared to just one book or game. We would recommend to consider such options as an app allowing to read the [world greatest books](https://thegreatestbooks.org/) with some features, like cards with crititcal reviews, brief summaries, etc., or an app for reading religious text and prayers aimed at a specific religion like Buddhists, Judaists, etc. "
   ]
  },
  {
   "cell_type": "markdown",
   "metadata": {},
   "source": [
    "Let's proceed further with the genre of navigation."
   ]
  },
  {
   "cell_type": "code",
   "execution_count": 66,
   "metadata": {},
   "outputs": [
    {
     "data": {
      "text/markdown": [
       "**iOS apps share in Apple Store Navigation genre**"
      ],
      "text/plain": [
       "<IPython.core.display.Markdown object>"
      ]
     },
     "metadata": {},
     "output_type": "display_data"
    },
    {
     "name": "stdout",
     "output_type": "stream",
     "text": [
      "\n",
      "\n",
      "Total number of apps: 6\n",
      "\n",
      "\n",
      "Waze - GPS Navigation, Maps & Real-time Traffic : 66.8 (%) | User rating: 4.5\n",
      "Google Maps - Navigation & Transit : 29.99 (%) | User rating: 4.5\n",
      "Geocaching® : 2.48 (%) | User rating: 3.5\n",
      "CoPilot GPS – Car Navigation & Offline Maps : 0.69 (%) | User rating: 4.0\n",
      "ImmobilienScout24: Real Estate Search in Germany : 0.04 (%) | User rating: 3.5\n",
      "Railway Route Search : 0.0 (%) | User rating: 3.0\n"
     ]
    }
   ],
   "source": [
    "Navigation = []\n",
    "App_name = []\n",
    "Value = []\n",
    "Rating = []\n",
    "for i in Free_ios:\n",
    "    if i[-5] == 'Navigation':\n",
    "        Value = float(i[5])\n",
    "        App_name = i[1]\n",
    "        Rating = i[7]\n",
    "        Row = (Value, App_name, Rating)\n",
    "        Navigation.append(Row)\n",
    "     \n",
    "total = 0\n",
    "for i in Navigation:\n",
    "    total += float(i[0])\n",
    "    \n",
    "table_sorted = sorted(Navigation, reverse = True)\n",
    "printmd('**iOS apps share in Apple Store Navigation genre**')\n",
    "print('\\n')\n",
    "print('Total number of apps:', len(table_sorted))\n",
    "print('\\n')\n",
    "for entry in table_sorted:\n",
    "        print(entry[1], ':', round(float(entry[0])/total*100, 2),'(%)','|','User rating:',entry[2])"
   ]
  },
  {
   "cell_type": "code",
   "execution_count": 67,
   "metadata": {},
   "outputs": [
    {
     "data": {
      "text/markdown": [
       "**Android apps share in Google Play Maps & Navigation genre**"
      ],
      "text/plain": [
       "<IPython.core.display.Markdown object>"
      ]
     },
     "metadata": {},
     "output_type": "display_data"
    },
    {
     "name": "stdout",
     "output_type": "stream",
     "text": [
      "\n",
      "\n",
      "Total number of apps: 123\n",
      "\n",
      "\n",
      "Waze - GPS, Maps, Traffic Alerts & Live Navigation : 20.07 (%) | User rating: 4.6\n",
      "Uber : 20.07 (%) | User rating: 4.2\n",
      "GPS Navigation & Offline Maps Sygic : 10.04 (%) | User rating: 4.4\n",
      "Free GPS Navigation : 10.04 (%) | User rating: 4.2\n",
      "Yandex.Transport : 2.01 (%) | User rating: 4.0\n",
      "Yahoo! transit guide free timetable, operation information, transfer search : 2.01 (%) | User rating: 4.4\n",
      "TomTom GPS Navigation Traffic : 2.01 (%) | User rating: 4.1\n",
      "Subway Terminator: Smarter Subway : 2.01 (%) | User rating: 4.3\n",
      "Moovit: Bus Time & Train Time Live Info : 2.01 (%) | User rating: 4.4\n",
      "Maps, GPS Navigation & Directions, Street View : 2.01 (%) | User rating: 4.2\n",
      "MapQuest: Directions, Maps, GPS & Navigation : 2.01 (%) | User rating: 4.1\n",
      "DB Navigator : 2.01 (%) | User rating: 4.0\n",
      "Compass : 2.01 (%) | User rating: 4.3\n",
      "AT&T DriveMode : 2.01 (%) | User rating: 3.3\n",
      "Yanosik: \"antyradar\", traffic jams, navigation, camera : 1.0 (%) | User rating: 4.4\n",
      "Yandex.Trains : 1.0 (%) | User rating: 4.4\n",
      "Transit: Real-Time Transit App : 1.0 (%) | User rating: 4.2\n",
      "T map (te map, T map, navigation) : 1.0 (%) | User rating: 4.2\n",
      "Sygic Car Navigation : 1.0 (%) | User rating: 4.7\n",
      "Speed Camera Radar : 1.0 (%) | User rating: 4.1\n"
     ]
    }
   ],
   "source": [
    "MAPS_AND_NAVIGATION = []\n",
    "App_name = []\n",
    "Value = []\n",
    "Rating = []\n",
    "for i in Free_android:\n",
    "    if i[1] == 'MAPS_AND_NAVIGATION':\n",
    "        Value = float(i[5])\n",
    "        App_name = i[0]\n",
    "        Rating = i[2]\n",
    "        Row = (Value, App_name, Rating)\n",
    "        MAPS_AND_NAVIGATION.append(Row)\n",
    "        \n",
    "total = 0\n",
    "for i in MAPS_AND_NAVIGATION:\n",
    "    total += float(i[0])\n",
    "    \n",
    "table_sorted = sorted(MAPS_AND_NAVIGATION, reverse = True)\n",
    "printmd('**Android apps share in Google Play Maps & Navigation genre**')\n",
    "print('\\n')\n",
    "print('Total number of apps:', len(table_sorted))\n",
    "print('\\n')\n",
    "for entry in table_sorted[:20]:\n",
    "        print(entry[1], ':', round(float(entry[0])/total*100, 2),'(%)','|','User rating:',entry[2])"
   ]
  },
  {
   "cell_type": "markdown",
   "metadata": {},
   "source": [
    "The Navigation genre seems to satisfy the demand to a large extent with a few major apps, backed primarily by Google (e.g. Waze). The number of related apps in the App Store is small, which can be probably explained by the fact that iOS users use Apple Maps. On sum, it would be almost impossible for new apps to gain a significant number of users in this segment without being backed by major tech giants. "
   ]
  },
  {
   "cell_type": "markdown",
   "metadata": {},
   "source": [
    "Android operating system is being used much more than iOS worldwide - 72.6% vs. 26.7% of corresponding [market shares](https://gs.statcounter.com/os-market-share/mobile/worldwide) for these two systems. Therefore, the benefits of having a successful app in the Google Play Store are way more promising. For this reason it seems appropriate to consider other top genres there and try to figure out whether there is a niche to conquer. "
   ]
  },
  {
   "cell_type": "markdown",
   "metadata": {},
   "source": [
    "Let's start exploring Google Play apps in a greater detail with the genre of video players."
   ]
  },
  {
   "cell_type": "code",
   "execution_count": 68,
   "metadata": {},
   "outputs": [
    {
     "data": {
      "text/markdown": [
       "**Android apps share in Google Play Video Players genre**"
      ],
      "text/plain": [
       "<IPython.core.display.Markdown object>"
      ]
     },
     "metadata": {},
     "output_type": "display_data"
    },
    {
     "name": "stdout",
     "output_type": "stream",
     "text": [
      "\n",
      "\n",
      "Total number of apps: 158\n",
      "\n",
      "\n",
      "YouTube : 25.44 (%) | User rating: 4.3\n",
      "Google Play Movies & TV : 25.44 (%) | User rating: 3.7\n",
      "MX Player : 12.72 (%) | User rating: 4.5\n",
      "VivaVideo - Video Editor & Photo Movie : 2.54 (%) | User rating: 4.6\n",
      "VideoShow-Video Editor, Video Maker, Beauty Camera : 2.54 (%) | User rating: 4.6\n",
      "VLC for Android : 2.54 (%) | User rating: 4.4\n",
      "Motorola Gallery : 2.54 (%) | User rating: 3.9\n",
      "Motorola FM Radio : 2.54 (%) | User rating: 3.9\n",
      "Dubsmash : 2.54 (%) | User rating: 4.2\n",
      "Vote for : 1.27 (%) | User rating: 4.2\n",
      "Vigo Video : 1.27 (%) | User rating: 4.3\n",
      "VMate : 1.27 (%) | User rating: 4.2\n",
      "Samsung Video Library : 1.27 (%) | User rating: 4.4\n",
      "Ringdroid : 1.27 (%) | User rating: 4.4\n",
      "MiniMovie - Free Video and Slideshow Editor : 1.27 (%) | User rating: 4.5\n",
      "LIKE – Magic Video Maker & Community : 1.27 (%) | User rating: 4.6\n",
      "KineMaster – Pro Video Editor : 1.27 (%) | User rating: 4.5\n",
      "HD Video Downloader : 2018 Best video mate : 1.27 (%) | User rating: 3.7\n",
      "DU Recorder – Screen Recorder, Video Editor, Live : 1.27 (%) | User rating: 4.8\n",
      "video player for android : 0.25 (%) | User rating: 4.5\n"
     ]
    }
   ],
   "source": [
    "VIDEO_PLAYERS = []\n",
    "App_name = []\n",
    "Value = []\n",
    "Rating = []\n",
    "for i in Free_android:\n",
    "    if i[1] == 'VIDEO_PLAYERS':\n",
    "        Value = float(i[5])\n",
    "        App_name = i[0]\n",
    "        Rating = i[2]\n",
    "        Row = (Value, App_name, Rating)\n",
    "        VIDEO_PLAYERS.append(Row)\n",
    "        \n",
    "total = 0\n",
    "for i in VIDEO_PLAYERS:\n",
    "    total += float(i[0])\n",
    "    \n",
    "table_sorted = sorted(VIDEO_PLAYERS, reverse = True)\n",
    "printmd('**Android apps share in Google Play Video Players genre**')\n",
    "print('\\n')\n",
    "print('Total number of apps:', len(table_sorted))\n",
    "print('\\n')\n",
    "for entry in table_sorted[:20]:\n",
    "        print(entry[1], ':', round(float(entry[0])/total*100, 2),'(%)','|','User rating:',entry[2])"
   ]
  },
  {
   "cell_type": "markdown",
   "metadata": {},
   "source": [
    "Among video players in Google Play top three apps comprise over 60% of the total number of installments. Two of the are actually Google products. Considering also the fact that there are already 159 apps in this genre it is possible to conclude that the prospects of developing an app here are rather negligible."
   ]
  },
  {
   "cell_type": "markdown",
   "metadata": {},
   "source": [
    "Let's proceed further with photography."
   ]
  },
  {
   "cell_type": "code",
   "execution_count": 69,
   "metadata": {},
   "outputs": [
    {
     "data": {
      "text/markdown": [
       "**Android apps share in Google Play Photography genre**"
      ],
      "text/plain": [
       "<IPython.core.display.Markdown object>"
      ]
     },
     "metadata": {},
     "output_type": "display_data"
    },
    {
     "name": "stdout",
     "output_type": "stream",
     "text": [
      "\n",
      "\n",
      "Total number of apps: 261\n",
      "\n",
      "\n",
      "Google Photos : 21.48 (%) | User rating: 4.5\n",
      "Z Camera - Photo Editor, Beauty Selfie, Collage : 2.15 (%) | User rating: 4.4\n",
      "YouCam Perfect - Selfie Photo Editor : 2.15 (%) | User rating: 4.5\n",
      "YouCam Makeup - Magic Selfie Makeovers : 2.15 (%) | User rating: 4.6\n",
      "Sweet Selfie - selfie camera, beauty cam, photo edit : 2.15 (%) | User rating: 4.6\n",
      "S Photo Editor - Collage Maker , Photo Collage : 2.15 (%) | User rating: 4.4\n",
      "Retrica : 2.15 (%) | User rating: 4.3\n",
      "PicsArt Photo Studio: Collage Maker & Pic Editor : 2.15 (%) | User rating: 4.5\n",
      "PhotoGrid: Video & Pic Collage Maker, Photo Editor : 2.15 (%) | User rating: 4.6\n",
      "Photo Editor Pro : 2.15 (%) | User rating: 4.3\n",
      "Photo Editor Collage Maker Pro : 2.15 (%) | User rating: 4.5\n",
      "Photo Collage Editor : 2.15 (%) | User rating: 4.2\n",
      "LINE Camera - Photo editor : 2.15 (%) | User rating: 4.3\n",
      "Cymera Camera- Photo Editor, Filter,Collage,Layout : 2.15 (%) | User rating: 4.4\n",
      "Candy Camera - selfie, beauty camera, photo editor : 2.15 (%) | User rating: 4.4\n",
      "Camera360: Selfie Photo Editor with Funny Sticker : 2.15 (%) | User rating: 4.3\n",
      "BeautyPlus - Easy Photo Editor & Selfie Camera : 2.15 (%) | User rating: 4.4\n",
      "B612 - Beauty & Filter Camera : 2.15 (%) | User rating: 4.4\n",
      "AR effect : 2.15 (%) | User rating: 4.2\n",
      "Video Editor Music,Cut,No Crop : 1.07 (%) | User rating: 4.7\n"
     ]
    }
   ],
   "source": [
    "PHOTOGRAPHY = []\n",
    "App_name = []\n",
    "Value = []\n",
    "Rating = []\n",
    "for i in Free_android:\n",
    "    if i[1] == 'PHOTOGRAPHY':\n",
    "        Value = float(i[5])\n",
    "        App_name = i[0]\n",
    "        Rating = i[2]\n",
    "        Row = (Value, App_name, Rating)\n",
    "        PHOTOGRAPHY.append(Row)\n",
    "        \n",
    "total = 0\n",
    "for i in PHOTOGRAPHY:\n",
    "    total += float(i[0])\n",
    "    \n",
    "table_sorted = sorted(PHOTOGRAPHY, reverse = True)\n",
    "printmd('**Android apps share in Google Play Photography genre**')\n",
    "print('\\n')\n",
    "print('Total number of apps:', len(table_sorted))\n",
    "print('\\n')\n",
    "for entry in table_sorted[:20]:\n",
    "        print(entry[1], ':', round(float(entry[0])/total*100, 2),'(%)','|','User rating:',entry[2])"
   ]
  },
  {
   "cell_type": "markdown",
   "metadata": {},
   "source": [
    "Similar competitve landscape can be observed in the Photography genre, though the market concentration is smaller with only one leader - Google Photos (21.5%). It seems that these niche is overly saturated with 261 apps - henceforth only very spesialized products with narrow client base may somehow survive here."
   ]
  },
  {
   "cell_type": "markdown",
   "metadata": {},
   "source": [
    "Let's further examine the games genre, where there are so many different apps."
   ]
  },
  {
   "cell_type": "code",
   "execution_count": 74,
   "metadata": {},
   "outputs": [
    {
     "data": {
      "text/markdown": [
       "**Android apps share in Google Play Game genre**"
      ],
      "text/plain": [
       "<IPython.core.display.Markdown object>"
      ]
     },
     "metadata": {},
     "output_type": "display_data"
    },
    {
     "name": "stdout",
     "output_type": "stream",
     "text": [
      "\n",
      "\n",
      "Total number of apps: 850\n",
      "\n",
      "\n",
      "Subway Surfers : 7.56 (%) | User rating: 4.5\n",
      "Temple Run 2 : 3.78 (%) | User rating: 4.3\n",
      "Pou : 3.78 (%) | User rating: 4.3\n",
      "My Talking Tom : 3.78 (%) | User rating: 4.5\n",
      "Candy Crush Saga : 3.78 (%) | User rating: 4.4\n",
      "slither.io : 0.76 (%) | User rating: 4.4\n",
      "Zombie Tsunami : 0.76 (%) | User rating: 4.4\n",
      "Yes day : 0.76 (%) | User rating: 4.5\n",
      "Vector : 0.76 (%) | User rating: 4.4\n",
      "Trivia Crack : 0.76 (%) | User rating: 4.5\n",
      "Traffic Racer : 0.76 (%) | User rating: 4.5\n",
      "Temple Run : 0.76 (%) | User rating: 4.3\n",
      "Talking Tom Gold Run : 0.76 (%) | User rating: 4.6\n",
      "Super Mario Run : 0.76 (%) | User rating: 3.7\n",
      "Sonic Dash : 0.76 (%) | User rating: 4.5\n",
      "Sniper 3D Gun Shooter: Free Shooting Games - FPS : 0.76 (%) | User rating: 4.6\n",
      "Smash Hit : 0.76 (%) | User rating: 4.5\n",
      "Skater Boy : 0.76 (%) | User rating: 4.3\n",
      "Shadow Fight 2 : 0.76 (%) | User rating: 4.6\n",
      "Score! Hero : 0.76 (%) | User rating: 4.6\n"
     ]
    }
   ],
   "source": [
    "GAME = []\n",
    "App_name = []\n",
    "Value = []\n",
    "Rating = []\n",
    "for i in Free_android:\n",
    "    if i[1] == 'GAME':\n",
    "        Value = float(i[5])\n",
    "        App_name = i[0]\n",
    "        Rating = i[2]\n",
    "        Row = (Value, App_name, Rating)\n",
    "        GAME.append(Row)\n",
    "        \n",
    "total = 0\n",
    "for i in GAME:\n",
    "    total += float(i[0])\n",
    "    \n",
    "table_sorted = sorted(GAME, reverse = True)\n",
    "printmd('**Android apps share in Google Play Game genre**')\n",
    "print('\\n')\n",
    "print('Total number of apps:', len(table_sorted))\n",
    "print('\\n')\n",
    "for entry in table_sorted[:20]:\n",
    "        print(entry[1], ':', round(float(entry[0])/total*100, 2),'(%)','|','User rating:',entry[2])"
   ]
  },
  {
   "cell_type": "code",
   "execution_count": 71,
   "metadata": {},
   "outputs": [
    {
     "data": {
      "text/markdown": [
       "**iOS apps share in Apple Store Games genre**"
      ],
      "text/plain": [
       "<IPython.core.display.Markdown object>"
      ]
     },
     "metadata": {},
     "output_type": "display_data"
    },
    {
     "name": "stdout",
     "output_type": "stream",
     "text": [
      "\n",
      "\n",
      "Total number of apps: 1860\n",
      "\n",
      "\n",
      "Clash of Clans : 4.99 (%) | User rating: 4.5\n",
      "Temple Run : 4.04 (%) | User rating: 4.5\n",
      "Candy Crush Saga : 2.25 (%) | User rating: 4.5\n",
      "Angry Birds : 1.93 (%) | User rating: 4.5\n",
      "Subway Surfers : 1.65 (%) | User rating: 4.5\n",
      "Solitaire : 1.59 (%) | User rating: 4.5\n",
      "CSR Racing : 1.59 (%) | User rating: 4.5\n",
      "Crossy Road - Endless Arcade Hopper : 1.57 (%) | User rating: 4.5\n",
      "Injustice: Gods Among Us : 1.43 (%) | User rating: 4.5\n",
      "Hay Day : 1.33 (%) | User rating: 4.5\n",
      "PAC-MAN : 1.19 (%) | User rating: 3.0\n",
      "DragonVale : 1.18 (%) | User rating: 4.5\n",
      "Head Soccer : 1.13 (%) | User rating: 5.0\n",
      "Despicable Me: Minion Rush : 1.09 (%) | User rating: 4.5\n",
      "The Sims™ FreePlay : 1.05 (%) | User rating: 4.5\n",
      "Sonic Dash : 0.98 (%) | User rating: 4.5\n",
      "8 Ball Pool™ : 0.98 (%) | User rating: 4.5\n",
      "Tiny Tower - Free City Building : 0.97 (%) | User rating: 4.5\n",
      "Jetpack Joyride : 0.95 (%) | User rating: 4.5\n",
      "Bike Race - Top Motorcycle Racing Games : 0.95 (%) | User rating: 4.5\n"
     ]
    }
   ],
   "source": [
    "Games = []\n",
    "App_name = []\n",
    "Value = []\n",
    "Rating = []\n",
    "for i in Free_ios:\n",
    "    if i[-5] == 'Games':\n",
    "        Value = float(i[5])\n",
    "        App_name = i[1]\n",
    "        Rating = i[7]\n",
    "        Row = (Value, App_name, Rating)\n",
    "        Games.append(Row)\n",
    "     \n",
    "total = 0\n",
    "for i in Games:\n",
    "    total += float(i[0])\n",
    "    \n",
    "table_sorted = sorted(Games, reverse = True)\n",
    "printmd('**iOS apps share in Apple Store Games genre**')\n",
    "print('\\n')\n",
    "print('Total number of apps:', len(table_sorted))\n",
    "print('\\n')\n",
    "for entry in table_sorted[:20]:\n",
    "        print(entry[1], ':', round(float(entry[0])/total*100, 2),'(%)','|','User rating:',entry[2])"
   ]
  },
  {
   "cell_type": "markdown",
   "metadata": {},
   "source": [
    "Finally, the Games genre contains the largest amount of apps in App Store (1866) and second largest in Google Play (858). As might be expected, the competitive landscape is very fragmented without any unanimous leader. Therefore, the competition is very harsh here, while the very nature of entertainment genre implies that after a certain period of hype or, at least, moderate popularity the app is going to fade away from the users' sight. In other words, developing an app in this genre will most likely bring only some short-term moderate benefits."
   ]
  },
  {
   "cell_type": "markdown",
   "metadata": {},
   "source": [
    "# **Conclusion**"
   ]
  },
  {
   "cell_type": "markdown",
   "metadata": {},
   "source": [
    "\n",
    "The ultimate goal of the undertaken data analysis is to figure out the most promising app profile. Using our proxies for genres popularity, - number of installments for Google Play apps and number of rating actions for App Store apps, - we may derive that **books and references genre might be quite promising**. Namely, we recommend potential app developers, which are looking for the most promising niches, to consider designing a free app, aimed at a **specific users' needs**, rather than a universal reading tool, which are in abundance. \n",
    "- The fist option could be an app with the **greatest books** of all times or one **extremely popular book** like \"Harry Potter\", with some special features. \n",
    "- The second option is some sort of continuation of the first one - to build an app around an **famous athor or a pesonality**, where books would reflect, for example, certain stages of their intellectual life. \n",
    "- The third option could be a feautured app for reading **religious texts** and prayers. \n"
   ]
  },
  {
   "cell_type": "markdown",
   "metadata": {},
   "source": [
    "In addition, the proposed genre can be considered as practical and entertaining at the same time depending on the needs of a particular user. All other major genres are either dominated by the products of tech giants like Google and Apple (e.g. navigation), or very fragmented and super competitive (e.g. games). It is noteworthy that for the former group of apps a high user rating is not necessary to be in the top - smooth accessibility and network externalities seemingly play the decisive role in their prevalence, as shown by our metrics."
   ]
  },
  {
   "cell_type": "markdown",
   "metadata": {},
   "source": [
    "Considerng the **strategy to enter** the chosen niche, we would propose the following:\n",
    "- build the first version of the new app and start first with Google Play, as there are way more users there;\n",
    "- get the initial feedback from users and proceed with product improvement;\n",
    "- after approximately 6 months examine the dynamics of the number of users and other major metrics, so that to figure out whether the niche and product are promising in the long-term based on the accumulated empirics;\n",
    "- in case the first stage of the new app proved to be a success, proceed further with entering Apple Store and continuing improving based of users' iterated feedback and segment's general dynamics. In-app purchases may be introduced on this stage for additional features, which might be popular among users."
   ]
  },
  {
   "cell_type": "markdown",
   "metadata": {},
   "source": [
    "Nonetheless, we should also keep in mind that our measures of apps popularity are not perfect. We need additional metrics for that in order to provide better insights to companies, who develop and distribute apps, as well as to other stakeholders. A more effective metric could be the **average time** spent by users in apps of different genres, but such data are probably not openly available."
   ]
  }
 ],
 "metadata": {
  "kernelspec": {
   "display_name": "Python 3",
   "language": "python",
   "name": "python3"
  },
  "language_info": {
   "codemirror_mode": {
    "name": "ipython",
    "version": 3
   },
   "file_extension": ".py",
   "mimetype": "text/x-python",
   "name": "python",
   "nbconvert_exporter": "python",
   "pygments_lexer": "ipython3",
   "version": "3.7.6"
  }
 },
 "nbformat": 4,
 "nbformat_minor": 4
}
