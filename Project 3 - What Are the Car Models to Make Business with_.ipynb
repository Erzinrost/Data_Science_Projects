{
 "cells": [
  {
   "cell_type": "markdown",
   "metadata": {},
   "source": [
    "# What Are the Car Models to Make Business with?"
   ]
  },
  {
   "cell_type": "markdown",
   "metadata": {},
   "source": [
    "## Abstract"
   ]
  },
  {
   "cell_type": "markdown",
   "metadata": {},
   "source": [
    "- The **aim** of the project is to determine which car brands and models are sold the most, what are their corresponding price range and the numbder of days on sale. The results of such investigation might be of importance to car dealers and other cars related businesses, who can thus be better informed of the most sellable car brands and models and strategize better based on that.\n",
    "- The **dataset** is from [Kaggle](https://www.kaggle.com/orgesleka/used-cars-database/data?select=autos.csv) and covers information about selling used cars in the classifieds section of the German eBay website. The data were collected in 2016 by crawling.\n",
    "- As the **major result** of our investigation we would propose car dealers, as well as other stackeholders, operating in Germany to pay much attention to such car models as **Volkswagen Golf, BMW 3 Series, Opel Corsa, Opel Astra, Mercedes-Benz C-Class, Mercedes-Benz E-Class, Audi A4, Ford Focus and Ford Fiesta**. Moreover, the cheaper models are usually sold faster one day on average, while the price of premium brands is seemingly not affected much by the higher average mileage."
   ]
  },
  {
   "cell_type": "markdown",
   "metadata": {},
   "source": [
    "## Initial Data Exploration"
   ]
  },
  {
   "cell_type": "markdown",
   "metadata": {},
   "source": [
    "Let's open our dataset, explore its size, as well as the names and types of major variables."
   ]
  },
  {
   "cell_type": "code",
   "execution_count": 7,
   "metadata": {},
   "outputs": [
    {
     "name": "stdout",
     "output_type": "stream",
     "text": [
      "<class 'pandas.core.frame.DataFrame'>\n",
      "RangeIndex: 371528 entries, 0 to 371527\n",
      "Data columns (total 20 columns):\n",
      " #   Column               Non-Null Count   Dtype \n",
      "---  ------               --------------   ----- \n",
      " 0   dateCrawled          371528 non-null  object\n",
      " 1   name                 371528 non-null  object\n",
      " 2   seller               371528 non-null  object\n",
      " 3   offerType            371528 non-null  object\n",
      " 4   price                371528 non-null  int64 \n",
      " 5   abtest               371528 non-null  object\n",
      " 6   vehicleType          333659 non-null  object\n",
      " 7   yearOfRegistration   371528 non-null  int64 \n",
      " 8   gearbox              351319 non-null  object\n",
      " 9   powerPS              371528 non-null  int64 \n",
      " 10  model                351044 non-null  object\n",
      " 11  kilometer            371528 non-null  int64 \n",
      " 12  monthOfRegistration  371528 non-null  int64 \n",
      " 13  fuelType             338142 non-null  object\n",
      " 14  brand                371528 non-null  object\n",
      " 15  notRepairedDamage    299468 non-null  object\n",
      " 16  dateCreated          371528 non-null  object\n",
      " 17  nrOfPictures         371528 non-null  int64 \n",
      " 18  postalCode           371528 non-null  int64 \n",
      " 19  lastSeen             371528 non-null  object\n",
      "dtypes: int64(7), object(13)\n",
      "memory usage: 56.7+ MB\n"
     ]
    },
    {
     "data": {
      "text/html": [
       "<div>\n",
       "<style scoped>\n",
       "    .dataframe tbody tr th:only-of-type {\n",
       "        vertical-align: middle;\n",
       "    }\n",
       "\n",
       "    .dataframe tbody tr th {\n",
       "        vertical-align: top;\n",
       "    }\n",
       "\n",
       "    .dataframe thead th {\n",
       "        text-align: right;\n",
       "    }\n",
       "</style>\n",
       "<table border=\"1\" class=\"dataframe\">\n",
       "  <thead>\n",
       "    <tr style=\"text-align: right;\">\n",
       "      <th></th>\n",
       "      <th>dateCrawled</th>\n",
       "      <th>name</th>\n",
       "      <th>seller</th>\n",
       "      <th>offerType</th>\n",
       "      <th>price</th>\n",
       "      <th>abtest</th>\n",
       "      <th>vehicleType</th>\n",
       "      <th>yearOfRegistration</th>\n",
       "      <th>gearbox</th>\n",
       "      <th>powerPS</th>\n",
       "      <th>model</th>\n",
       "      <th>kilometer</th>\n",
       "      <th>monthOfRegistration</th>\n",
       "      <th>fuelType</th>\n",
       "      <th>brand</th>\n",
       "      <th>notRepairedDamage</th>\n",
       "      <th>dateCreated</th>\n",
       "      <th>nrOfPictures</th>\n",
       "      <th>postalCode</th>\n",
       "      <th>lastSeen</th>\n",
       "    </tr>\n",
       "  </thead>\n",
       "  <tbody>\n",
       "    <tr>\n",
       "      <th>0</th>\n",
       "      <td>2016-03-24 11:52:17</td>\n",
       "      <td>Golf_3_1.6</td>\n",
       "      <td>privat</td>\n",
       "      <td>Angebot</td>\n",
       "      <td>480</td>\n",
       "      <td>test</td>\n",
       "      <td>NaN</td>\n",
       "      <td>1993</td>\n",
       "      <td>manuell</td>\n",
       "      <td>0</td>\n",
       "      <td>golf</td>\n",
       "      <td>150000</td>\n",
       "      <td>0</td>\n",
       "      <td>benzin</td>\n",
       "      <td>volkswagen</td>\n",
       "      <td>NaN</td>\n",
       "      <td>2016-03-24 00:00:00</td>\n",
       "      <td>0</td>\n",
       "      <td>70435</td>\n",
       "      <td>2016-04-07 03:16:57</td>\n",
       "    </tr>\n",
       "    <tr>\n",
       "      <th>1</th>\n",
       "      <td>2016-03-24 10:58:45</td>\n",
       "      <td>A5_Sportback_2.7_Tdi</td>\n",
       "      <td>privat</td>\n",
       "      <td>Angebot</td>\n",
       "      <td>18300</td>\n",
       "      <td>test</td>\n",
       "      <td>coupe</td>\n",
       "      <td>2011</td>\n",
       "      <td>manuell</td>\n",
       "      <td>190</td>\n",
       "      <td>NaN</td>\n",
       "      <td>125000</td>\n",
       "      <td>5</td>\n",
       "      <td>diesel</td>\n",
       "      <td>audi</td>\n",
       "      <td>ja</td>\n",
       "      <td>2016-03-24 00:00:00</td>\n",
       "      <td>0</td>\n",
       "      <td>66954</td>\n",
       "      <td>2016-04-07 01:46:50</td>\n",
       "    </tr>\n",
       "    <tr>\n",
       "      <th>2</th>\n",
       "      <td>2016-03-14 12:52:21</td>\n",
       "      <td>Jeep_Grand_Cherokee_\"Overland\"</td>\n",
       "      <td>privat</td>\n",
       "      <td>Angebot</td>\n",
       "      <td>9800</td>\n",
       "      <td>test</td>\n",
       "      <td>suv</td>\n",
       "      <td>2004</td>\n",
       "      <td>automatik</td>\n",
       "      <td>163</td>\n",
       "      <td>grand</td>\n",
       "      <td>125000</td>\n",
       "      <td>8</td>\n",
       "      <td>diesel</td>\n",
       "      <td>jeep</td>\n",
       "      <td>NaN</td>\n",
       "      <td>2016-03-14 00:00:00</td>\n",
       "      <td>0</td>\n",
       "      <td>90480</td>\n",
       "      <td>2016-04-05 12:47:46</td>\n",
       "    </tr>\n",
       "    <tr>\n",
       "      <th>3</th>\n",
       "      <td>2016-03-17 16:54:04</td>\n",
       "      <td>GOLF_4_1_4__3TÜRER</td>\n",
       "      <td>privat</td>\n",
       "      <td>Angebot</td>\n",
       "      <td>1500</td>\n",
       "      <td>test</td>\n",
       "      <td>kleinwagen</td>\n",
       "      <td>2001</td>\n",
       "      <td>manuell</td>\n",
       "      <td>75</td>\n",
       "      <td>golf</td>\n",
       "      <td>150000</td>\n",
       "      <td>6</td>\n",
       "      <td>benzin</td>\n",
       "      <td>volkswagen</td>\n",
       "      <td>nein</td>\n",
       "      <td>2016-03-17 00:00:00</td>\n",
       "      <td>0</td>\n",
       "      <td>91074</td>\n",
       "      <td>2016-03-17 17:40:17</td>\n",
       "    </tr>\n",
       "    <tr>\n",
       "      <th>4</th>\n",
       "      <td>2016-03-31 17:25:20</td>\n",
       "      <td>Skoda_Fabia_1.4_TDI_PD_Classic</td>\n",
       "      <td>privat</td>\n",
       "      <td>Angebot</td>\n",
       "      <td>3600</td>\n",
       "      <td>test</td>\n",
       "      <td>kleinwagen</td>\n",
       "      <td>2008</td>\n",
       "      <td>manuell</td>\n",
       "      <td>69</td>\n",
       "      <td>fabia</td>\n",
       "      <td>90000</td>\n",
       "      <td>7</td>\n",
       "      <td>diesel</td>\n",
       "      <td>skoda</td>\n",
       "      <td>nein</td>\n",
       "      <td>2016-03-31 00:00:00</td>\n",
       "      <td>0</td>\n",
       "      <td>60437</td>\n",
       "      <td>2016-04-06 10:17:21</td>\n",
       "    </tr>\n",
       "  </tbody>\n",
       "</table>\n",
       "</div>"
      ],
      "text/plain": [
       "           dateCrawled                            name  seller offerType  \\\n",
       "0  2016-03-24 11:52:17                      Golf_3_1.6  privat   Angebot   \n",
       "1  2016-03-24 10:58:45            A5_Sportback_2.7_Tdi  privat   Angebot   \n",
       "2  2016-03-14 12:52:21  Jeep_Grand_Cherokee_\"Overland\"  privat   Angebot   \n",
       "3  2016-03-17 16:54:04              GOLF_4_1_4__3TÜRER  privat   Angebot   \n",
       "4  2016-03-31 17:25:20  Skoda_Fabia_1.4_TDI_PD_Classic  privat   Angebot   \n",
       "\n",
       "   price abtest vehicleType  yearOfRegistration    gearbox  powerPS  model  \\\n",
       "0    480   test         NaN                1993    manuell        0   golf   \n",
       "1  18300   test       coupe                2011    manuell      190    NaN   \n",
       "2   9800   test         suv                2004  automatik      163  grand   \n",
       "3   1500   test  kleinwagen                2001    manuell       75   golf   \n",
       "4   3600   test  kleinwagen                2008    manuell       69  fabia   \n",
       "\n",
       "   kilometer  monthOfRegistration fuelType       brand notRepairedDamage  \\\n",
       "0     150000                    0   benzin  volkswagen               NaN   \n",
       "1     125000                    5   diesel        audi                ja   \n",
       "2     125000                    8   diesel        jeep               NaN   \n",
       "3     150000                    6   benzin  volkswagen              nein   \n",
       "4      90000                    7   diesel       skoda              nein   \n",
       "\n",
       "           dateCreated  nrOfPictures  postalCode             lastSeen  \n",
       "0  2016-03-24 00:00:00             0       70435  2016-04-07 03:16:57  \n",
       "1  2016-03-24 00:00:00             0       66954  2016-04-07 01:46:50  \n",
       "2  2016-03-14 00:00:00             0       90480  2016-04-05 12:47:46  \n",
       "3  2016-03-17 00:00:00             0       91074  2016-03-17 17:40:17  \n",
       "4  2016-03-31 00:00:00             0       60437  2016-04-06 10:17:21  "
      ]
     },
     "execution_count": 7,
     "metadata": {},
     "output_type": "execute_result"
    }
   ],
   "source": [
    "# Import pandas and numpy packages\n",
    "import pandas as pd\n",
    "import numpy as np\n",
    "\n",
    "# Open the original dataset with pandas package\n",
    "autos = pd.read_csv('/Users/mac/downloads/autos.csv',encoding = 'Latin-1')\n",
    "# save data to Jupyter online folder\n",
    "autos.to_csv('Projects_data/autos.csv')\n",
    "autos.info() # get info about variables' types and the size of our dataset\n",
    "autos.head() # inspect first five rows"
   ]
  },
  {
   "cell_type": "markdown",
   "metadata": {},
   "source": [
    "From the above tables we can infer the following about our dataset:\n",
    "- there are over 370 000 observations initially;\n",
    "- a few of our variables are integers, while the rest are non-integer objects;\n",
    "- the maximum amount of empty values within a column is no more than 20%;\n",
    "- camel cases are used to name columns."
   ]
  },
  {
   "cell_type": "markdown",
   "metadata": {},
   "source": [
    "The variables of the major importance for our further investigation are price, car model, car brand, kilometer, classified creation date and its last seen date. For further convenience let's get rid of camel cases."
   ]
  },
  {
   "cell_type": "code",
   "execution_count": 2,
   "metadata": {},
   "outputs": [],
   "source": [
    "# Create a function to turn camel cases in snake cases\n",
    "def change_case(str): \n",
    "      \n",
    "    return ''.join(['_'+i.lower() if i.isupper()  \n",
    "               else i for i in str]).lstrip('_') "
   ]
  },
  {
   "cell_type": "code",
   "execution_count": 3,
   "metadata": {
    "scrolled": false
   },
   "outputs": [
    {
     "name": "stdout",
     "output_type": "stream",
     "text": [
      "<class 'pandas.core.frame.DataFrame'>\n",
      "RangeIndex: 371528 entries, 0 to 371527\n",
      "Data columns (total 20 columns):\n",
      " #   Column                 Non-Null Count   Dtype \n",
      "---  ------                 --------------   ----- \n",
      " 0   date_crawled           371528 non-null  object\n",
      " 1   name                   371528 non-null  object\n",
      " 2   seller                 371528 non-null  object\n",
      " 3   offer_type             371528 non-null  object\n",
      " 4   price                  371528 non-null  int64 \n",
      " 5   abtest                 371528 non-null  object\n",
      " 6   vehicle_type           333659 non-null  object\n",
      " 7   year_of_registration   371528 non-null  int64 \n",
      " 8   gearbox                351319 non-null  object\n",
      " 9   power_p_s              371528 non-null  int64 \n",
      " 10  model                  351044 non-null  object\n",
      " 11  kilometer              371528 non-null  int64 \n",
      " 12  month_of_registration  371528 non-null  int64 \n",
      " 13  fuel_type              338142 non-null  object\n",
      " 14  brand                  371528 non-null  object\n",
      " 15  not_repaired_damage    299468 non-null  object\n",
      " 16  date_created           371528 non-null  object\n",
      " 17  nr_of_pictures         371528 non-null  int64 \n",
      " 18  postal_code            371528 non-null  int64 \n",
      " 19  last_seen              371528 non-null  object\n",
      "dtypes: int64(7), object(13)\n",
      "memory usage: 56.7+ MB\n"
     ]
    }
   ],
   "source": [
    "# Apply the function to the column names of our dataset\n",
    "column_names = [] # list with snake cases\n",
    "\n",
    "for column_name in autos.columns:\n",
    "    column_names.append(change_case(column_name))\n",
    "\n",
    "autos.columns = column_names # rename columns\n",
    "    \n",
    "# Check the results\n",
    "autos.info()"
   ]
  },
  {
   "cell_type": "markdown",
   "metadata": {},
   "source": [
    "## Some Variables Contain Unrealistic Numbers"
   ]
  },
  {
   "cell_type": "markdown",
   "metadata": {},
   "source": [
    "Let's observe further descriptive statistics of our major variables."
   ]
  },
  {
   "cell_type": "code",
   "execution_count": 4,
   "metadata": {
    "scrolled": true
   },
   "outputs": [
    {
     "data": {
      "text/html": [
       "<div>\n",
       "<style scoped>\n",
       "    .dataframe tbody tr th:only-of-type {\n",
       "        vertical-align: middle;\n",
       "    }\n",
       "\n",
       "    .dataframe tbody tr th {\n",
       "        vertical-align: top;\n",
       "    }\n",
       "\n",
       "    .dataframe thead th {\n",
       "        text-align: right;\n",
       "    }\n",
       "</style>\n",
       "<table border=\"1\" class=\"dataframe\">\n",
       "  <thead>\n",
       "    <tr style=\"text-align: right;\">\n",
       "      <th></th>\n",
       "      <th>date_crawled</th>\n",
       "      <th>name</th>\n",
       "      <th>seller</th>\n",
       "      <th>offer_type</th>\n",
       "      <th>price</th>\n",
       "      <th>abtest</th>\n",
       "      <th>vehicle_type</th>\n",
       "      <th>year_of_registration</th>\n",
       "      <th>gearbox</th>\n",
       "      <th>power_p_s</th>\n",
       "      <th>model</th>\n",
       "      <th>kilometer</th>\n",
       "      <th>month_of_registration</th>\n",
       "      <th>fuel_type</th>\n",
       "      <th>brand</th>\n",
       "      <th>not_repaired_damage</th>\n",
       "      <th>date_created</th>\n",
       "      <th>nr_of_pictures</th>\n",
       "      <th>postal_code</th>\n",
       "      <th>last_seen</th>\n",
       "    </tr>\n",
       "  </thead>\n",
       "  <tbody>\n",
       "    <tr>\n",
       "      <th>count</th>\n",
       "      <td>371528</td>\n",
       "      <td>371528</td>\n",
       "      <td>371528</td>\n",
       "      <td>371528</td>\n",
       "      <td>3.715280e+05</td>\n",
       "      <td>371528</td>\n",
       "      <td>333659</td>\n",
       "      <td>371528.000000</td>\n",
       "      <td>351319</td>\n",
       "      <td>371528.000000</td>\n",
       "      <td>351044</td>\n",
       "      <td>371528.000000</td>\n",
       "      <td>371528.000000</td>\n",
       "      <td>338142</td>\n",
       "      <td>371528</td>\n",
       "      <td>299468</td>\n",
       "      <td>371528</td>\n",
       "      <td>371528.0</td>\n",
       "      <td>371528.00000</td>\n",
       "      <td>371528</td>\n",
       "    </tr>\n",
       "    <tr>\n",
       "      <th>unique</th>\n",
       "      <td>280500</td>\n",
       "      <td>233531</td>\n",
       "      <td>2</td>\n",
       "      <td>2</td>\n",
       "      <td>NaN</td>\n",
       "      <td>2</td>\n",
       "      <td>8</td>\n",
       "      <td>NaN</td>\n",
       "      <td>2</td>\n",
       "      <td>NaN</td>\n",
       "      <td>251</td>\n",
       "      <td>NaN</td>\n",
       "      <td>NaN</td>\n",
       "      <td>7</td>\n",
       "      <td>40</td>\n",
       "      <td>2</td>\n",
       "      <td>114</td>\n",
       "      <td>NaN</td>\n",
       "      <td>NaN</td>\n",
       "      <td>182806</td>\n",
       "    </tr>\n",
       "    <tr>\n",
       "      <th>top</th>\n",
       "      <td>2016-03-24 14:49:47</td>\n",
       "      <td>Ford_Fiesta</td>\n",
       "      <td>privat</td>\n",
       "      <td>Angebot</td>\n",
       "      <td>NaN</td>\n",
       "      <td>test</td>\n",
       "      <td>limousine</td>\n",
       "      <td>NaN</td>\n",
       "      <td>manuell</td>\n",
       "      <td>NaN</td>\n",
       "      <td>golf</td>\n",
       "      <td>NaN</td>\n",
       "      <td>NaN</td>\n",
       "      <td>benzin</td>\n",
       "      <td>volkswagen</td>\n",
       "      <td>nein</td>\n",
       "      <td>2016-04-03 00:00:00</td>\n",
       "      <td>NaN</td>\n",
       "      <td>NaN</td>\n",
       "      <td>2016-04-06 13:45:54</td>\n",
       "    </tr>\n",
       "    <tr>\n",
       "      <th>freq</th>\n",
       "      <td>7</td>\n",
       "      <td>657</td>\n",
       "      <td>371525</td>\n",
       "      <td>371516</td>\n",
       "      <td>NaN</td>\n",
       "      <td>192585</td>\n",
       "      <td>95894</td>\n",
       "      <td>NaN</td>\n",
       "      <td>274214</td>\n",
       "      <td>NaN</td>\n",
       "      <td>30070</td>\n",
       "      <td>NaN</td>\n",
       "      <td>NaN</td>\n",
       "      <td>223857</td>\n",
       "      <td>79640</td>\n",
       "      <td>263182</td>\n",
       "      <td>14450</td>\n",
       "      <td>NaN</td>\n",
       "      <td>NaN</td>\n",
       "      <td>17</td>\n",
       "    </tr>\n",
       "    <tr>\n",
       "      <th>mean</th>\n",
       "      <td>NaN</td>\n",
       "      <td>NaN</td>\n",
       "      <td>NaN</td>\n",
       "      <td>NaN</td>\n",
       "      <td>1.729514e+04</td>\n",
       "      <td>NaN</td>\n",
       "      <td>NaN</td>\n",
       "      <td>2004.577997</td>\n",
       "      <td>NaN</td>\n",
       "      <td>115.549477</td>\n",
       "      <td>NaN</td>\n",
       "      <td>125618.688228</td>\n",
       "      <td>5.734445</td>\n",
       "      <td>NaN</td>\n",
       "      <td>NaN</td>\n",
       "      <td>NaN</td>\n",
       "      <td>NaN</td>\n",
       "      <td>0.0</td>\n",
       "      <td>50820.66764</td>\n",
       "      <td>NaN</td>\n",
       "    </tr>\n",
       "    <tr>\n",
       "      <th>std</th>\n",
       "      <td>NaN</td>\n",
       "      <td>NaN</td>\n",
       "      <td>NaN</td>\n",
       "      <td>NaN</td>\n",
       "      <td>3.587954e+06</td>\n",
       "      <td>NaN</td>\n",
       "      <td>NaN</td>\n",
       "      <td>92.866598</td>\n",
       "      <td>NaN</td>\n",
       "      <td>192.139578</td>\n",
       "      <td>NaN</td>\n",
       "      <td>40112.337051</td>\n",
       "      <td>3.712412</td>\n",
       "      <td>NaN</td>\n",
       "      <td>NaN</td>\n",
       "      <td>NaN</td>\n",
       "      <td>NaN</td>\n",
       "      <td>0.0</td>\n",
       "      <td>25799.08247</td>\n",
       "      <td>NaN</td>\n",
       "    </tr>\n",
       "    <tr>\n",
       "      <th>min</th>\n",
       "      <td>NaN</td>\n",
       "      <td>NaN</td>\n",
       "      <td>NaN</td>\n",
       "      <td>NaN</td>\n",
       "      <td>0.000000e+00</td>\n",
       "      <td>NaN</td>\n",
       "      <td>NaN</td>\n",
       "      <td>1000.000000</td>\n",
       "      <td>NaN</td>\n",
       "      <td>0.000000</td>\n",
       "      <td>NaN</td>\n",
       "      <td>5000.000000</td>\n",
       "      <td>0.000000</td>\n",
       "      <td>NaN</td>\n",
       "      <td>NaN</td>\n",
       "      <td>NaN</td>\n",
       "      <td>NaN</td>\n",
       "      <td>0.0</td>\n",
       "      <td>1067.00000</td>\n",
       "      <td>NaN</td>\n",
       "    </tr>\n",
       "    <tr>\n",
       "      <th>25%</th>\n",
       "      <td>NaN</td>\n",
       "      <td>NaN</td>\n",
       "      <td>NaN</td>\n",
       "      <td>NaN</td>\n",
       "      <td>1.150000e+03</td>\n",
       "      <td>NaN</td>\n",
       "      <td>NaN</td>\n",
       "      <td>1999.000000</td>\n",
       "      <td>NaN</td>\n",
       "      <td>70.000000</td>\n",
       "      <td>NaN</td>\n",
       "      <td>125000.000000</td>\n",
       "      <td>3.000000</td>\n",
       "      <td>NaN</td>\n",
       "      <td>NaN</td>\n",
       "      <td>NaN</td>\n",
       "      <td>NaN</td>\n",
       "      <td>0.0</td>\n",
       "      <td>30459.00000</td>\n",
       "      <td>NaN</td>\n",
       "    </tr>\n",
       "    <tr>\n",
       "      <th>50%</th>\n",
       "      <td>NaN</td>\n",
       "      <td>NaN</td>\n",
       "      <td>NaN</td>\n",
       "      <td>NaN</td>\n",
       "      <td>2.950000e+03</td>\n",
       "      <td>NaN</td>\n",
       "      <td>NaN</td>\n",
       "      <td>2003.000000</td>\n",
       "      <td>NaN</td>\n",
       "      <td>105.000000</td>\n",
       "      <td>NaN</td>\n",
       "      <td>150000.000000</td>\n",
       "      <td>6.000000</td>\n",
       "      <td>NaN</td>\n",
       "      <td>NaN</td>\n",
       "      <td>NaN</td>\n",
       "      <td>NaN</td>\n",
       "      <td>0.0</td>\n",
       "      <td>49610.00000</td>\n",
       "      <td>NaN</td>\n",
       "    </tr>\n",
       "    <tr>\n",
       "      <th>75%</th>\n",
       "      <td>NaN</td>\n",
       "      <td>NaN</td>\n",
       "      <td>NaN</td>\n",
       "      <td>NaN</td>\n",
       "      <td>7.200000e+03</td>\n",
       "      <td>NaN</td>\n",
       "      <td>NaN</td>\n",
       "      <td>2008.000000</td>\n",
       "      <td>NaN</td>\n",
       "      <td>150.000000</td>\n",
       "      <td>NaN</td>\n",
       "      <td>150000.000000</td>\n",
       "      <td>9.000000</td>\n",
       "      <td>NaN</td>\n",
       "      <td>NaN</td>\n",
       "      <td>NaN</td>\n",
       "      <td>NaN</td>\n",
       "      <td>0.0</td>\n",
       "      <td>71546.00000</td>\n",
       "      <td>NaN</td>\n",
       "    </tr>\n",
       "    <tr>\n",
       "      <th>max</th>\n",
       "      <td>NaN</td>\n",
       "      <td>NaN</td>\n",
       "      <td>NaN</td>\n",
       "      <td>NaN</td>\n",
       "      <td>2.147484e+09</td>\n",
       "      <td>NaN</td>\n",
       "      <td>NaN</td>\n",
       "      <td>9999.000000</td>\n",
       "      <td>NaN</td>\n",
       "      <td>20000.000000</td>\n",
       "      <td>NaN</td>\n",
       "      <td>150000.000000</td>\n",
       "      <td>12.000000</td>\n",
       "      <td>NaN</td>\n",
       "      <td>NaN</td>\n",
       "      <td>NaN</td>\n",
       "      <td>NaN</td>\n",
       "      <td>0.0</td>\n",
       "      <td>99998.00000</td>\n",
       "      <td>NaN</td>\n",
       "    </tr>\n",
       "  </tbody>\n",
       "</table>\n",
       "</div>"
      ],
      "text/plain": [
       "               date_crawled         name  seller offer_type         price  \\\n",
       "count                371528       371528  371528     371528  3.715280e+05   \n",
       "unique               280500       233531       2          2           NaN   \n",
       "top     2016-03-24 14:49:47  Ford_Fiesta  privat    Angebot           NaN   \n",
       "freq                      7          657  371525     371516           NaN   \n",
       "mean                    NaN          NaN     NaN        NaN  1.729514e+04   \n",
       "std                     NaN          NaN     NaN        NaN  3.587954e+06   \n",
       "min                     NaN          NaN     NaN        NaN  0.000000e+00   \n",
       "25%                     NaN          NaN     NaN        NaN  1.150000e+03   \n",
       "50%                     NaN          NaN     NaN        NaN  2.950000e+03   \n",
       "75%                     NaN          NaN     NaN        NaN  7.200000e+03   \n",
       "max                     NaN          NaN     NaN        NaN  2.147484e+09   \n",
       "\n",
       "        abtest vehicle_type  year_of_registration  gearbox      power_p_s  \\\n",
       "count   371528       333659         371528.000000   351319  371528.000000   \n",
       "unique       2            8                   NaN        2            NaN   \n",
       "top       test    limousine                   NaN  manuell            NaN   \n",
       "freq    192585        95894                   NaN   274214            NaN   \n",
       "mean       NaN          NaN           2004.577997      NaN     115.549477   \n",
       "std        NaN          NaN             92.866598      NaN     192.139578   \n",
       "min        NaN          NaN           1000.000000      NaN       0.000000   \n",
       "25%        NaN          NaN           1999.000000      NaN      70.000000   \n",
       "50%        NaN          NaN           2003.000000      NaN     105.000000   \n",
       "75%        NaN          NaN           2008.000000      NaN     150.000000   \n",
       "max        NaN          NaN           9999.000000      NaN   20000.000000   \n",
       "\n",
       "         model      kilometer  month_of_registration fuel_type       brand  \\\n",
       "count   351044  371528.000000          371528.000000    338142      371528   \n",
       "unique     251            NaN                    NaN         7          40   \n",
       "top       golf            NaN                    NaN    benzin  volkswagen   \n",
       "freq     30070            NaN                    NaN    223857       79640   \n",
       "mean       NaN  125618.688228               5.734445       NaN         NaN   \n",
       "std        NaN   40112.337051               3.712412       NaN         NaN   \n",
       "min        NaN    5000.000000               0.000000       NaN         NaN   \n",
       "25%        NaN  125000.000000               3.000000       NaN         NaN   \n",
       "50%        NaN  150000.000000               6.000000       NaN         NaN   \n",
       "75%        NaN  150000.000000               9.000000       NaN         NaN   \n",
       "max        NaN  150000.000000              12.000000       NaN         NaN   \n",
       "\n",
       "       not_repaired_damage         date_created  nr_of_pictures   postal_code  \\\n",
       "count               299468               371528        371528.0  371528.00000   \n",
       "unique                   2                  114             NaN           NaN   \n",
       "top                   nein  2016-04-03 00:00:00             NaN           NaN   \n",
       "freq                263182                14450             NaN           NaN   \n",
       "mean                   NaN                  NaN             0.0   50820.66764   \n",
       "std                    NaN                  NaN             0.0   25799.08247   \n",
       "min                    NaN                  NaN             0.0    1067.00000   \n",
       "25%                    NaN                  NaN             0.0   30459.00000   \n",
       "50%                    NaN                  NaN             0.0   49610.00000   \n",
       "75%                    NaN                  NaN             0.0   71546.00000   \n",
       "max                    NaN                  NaN             0.0   99998.00000   \n",
       "\n",
       "                  last_seen  \n",
       "count                371528  \n",
       "unique               182806  \n",
       "top     2016-04-06 13:45:54  \n",
       "freq                     17  \n",
       "mean                    NaN  \n",
       "std                     NaN  \n",
       "min                     NaN  \n",
       "25%                     NaN  \n",
       "50%                     NaN  \n",
       "75%                     NaN  \n",
       "max                     NaN  "
      ]
     },
     "execution_count": 4,
     "metadata": {},
     "output_type": "execute_result"
    }
   ],
   "source": [
    "# Get descriptive statistics for all variables\n",
    "autos.describe(include='all')"
   ]
  },
  {
   "cell_type": "markdown",
   "metadata": {},
   "source": [
    "From the above table we may conclude the following:\n",
    "- the 'seller' and 'offer_type' columns contain almost identical values - the frequency of their respective top values in the total count is almost 100%;\n",
    "- the 'nr_of_pictures' column looks incorrect and we need to check it further."
   ]
  },
  {
   "cell_type": "code",
   "execution_count": 5,
   "metadata": {},
   "outputs": [
    {
     "data": {
      "text/plain": [
       "0    371528\n",
       "Name: nr_of_pictures, dtype: int64"
      ]
     },
     "execution_count": 5,
     "metadata": {},
     "output_type": "execute_result"
    }
   ],
   "source": [
    "# Check what values are contained in the 'nr_of_pictures' column\n",
    "autos['nr_of_pictures'].value_counts()"
   ]
  },
  {
   "cell_type": "markdown",
   "metadata": {},
   "source": [
    "The output shows only zero values, which means that there are no pictures of autos recorded in the dataset. Therefore we cannot use this column for further analysis. We drop it along with the 'seller' and 'offer_type' columns containing identical values as irrelevant."
   ]
  },
  {
   "cell_type": "code",
   "execution_count": 6,
   "metadata": {},
   "outputs": [],
   "source": [
    "# Drop columns with identical values\n",
    "autos = autos.drop(['seller','offer_type','nr_of_pictures'],axis=1)"
   ]
  },
  {
   "cell_type": "markdown",
   "metadata": {},
   "source": [
    "We proceed further with checking 'kilometer' and 'price' columns, which are of greater interest to us."
   ]
  },
  {
   "cell_type": "code",
   "execution_count": 7,
   "metadata": {},
   "outputs": [
    {
     "name": "stdout",
     "output_type": "stream",
     "text": [
      "150000    240797\n",
      "125000     38067\n",
      "100000     15920\n",
      "90000      12523\n",
      "80000      11053\n",
      "70000       9773\n",
      "60000       8669\n",
      "50000       7615\n",
      "5000        7069\n",
      "40000       6376\n",
      "30000       6041\n",
      "20000       5676\n",
      "10000       1949\n",
      "Name: kilometer, dtype: int64\n",
      "0     10778\n",
      "1      1189\n",
      "2        12\n",
      "3         8\n",
      "4         1\n",
      "5        26\n",
      "7         3\n",
      "8         9\n",
      "9         8\n",
      "10       84\n",
      "Name: price, dtype: int64\n",
      "2147483647     1\n",
      "99999999      15\n",
      "99000000       1\n",
      "74185296       1\n",
      "32545461       1\n",
      "27322222       1\n",
      "14000500       1\n",
      "12345678       9\n",
      "11111111      10\n",
      "10010011       1\n",
      "Name: price, dtype: int64\n",
      "count    3.715280e+05\n",
      "mean     1.729514e+04\n",
      "std      3.587954e+06\n",
      "min      0.000000e+00\n",
      "25%      1.150000e+03\n",
      "50%      2.950000e+03\n",
      "75%      7.200000e+03\n",
      "max      2.147484e+09\n",
      "Name: price, dtype: float64\n"
     ]
    }
   ],
   "source": [
    "# show the distribution of mileage and prices\n",
    "print(autos['kilometer'].value_counts())\n",
    "print(autos['price'].value_counts().sort_index(ascending=True).head(10))\n",
    "print(autos['price'].value_counts().sort_index(ascending=False).head(10))\n",
    "print(autos['price'].describe())"
   ]
  },
  {
   "cell_type": "markdown",
   "metadata": {},
   "source": [
    "The 'kilometer' column doesn't seem to have outliers, and the values there are seemingly grouped into ranges, so that the variety of unique values is minimal. Out of the above results we may also conclude that the majority of cars in our dataset have quite high mileage, i.e. they are most likely more or less old."
   ]
  },
  {
   "cell_type": "markdown",
   "metadata": {},
   "source": [
    "However, there are outliers in the 'price' columns - we may observe both extremely high and extremely low values. While extremely low values may seem plausible being the strating price in the car sale auctions, extremely high values are rather mistakes in our dataset. Therefore, we get rid of them setting the plausible price range within 0 - 350000."
   ]
  },
  {
   "cell_type": "code",
   "execution_count": 8,
   "metadata": {},
   "outputs": [],
   "source": [
    "# Save only rows with price values within 0 - 350000 range\n",
    "# by using boolean expression\n",
    "autos = autos[autos['price'].between(0,350000)]"
   ]
  },
  {
   "cell_type": "markdown",
   "metadata": {},
   "source": [
    "## Time Variables of Major Interest Cover Mostly Spring 2016"
   ]
  },
  {
   "cell_type": "markdown",
   "metadata": {},
   "source": [
    "Let's explore next date variables in our dataset."
   ]
  },
  {
   "cell_type": "code",
   "execution_count": 9,
   "metadata": {},
   "outputs": [
    {
     "name": "stdout",
     "output_type": "stream",
     "text": [
      "2016-04-06 13:45:54    0.000046\n",
      "2016-04-07 06:45:59    0.000046\n",
      "2016-04-06 01:15:23    0.000043\n",
      "2016-04-07 00:45:17    0.000043\n",
      "2016-04-06 09:17:58    0.000043\n",
      "2016-04-07 05:44:30    0.000043\n",
      "2016-04-06 07:45:46    0.000043\n",
      "2016-04-07 10:46:23    0.000043\n",
      "2016-04-07 09:46:25    0.000043\n",
      "2016-04-06 09:46:00    0.000043\n",
      "Name: last_seen, dtype: float64\n",
      "2016-03-12 10:37:56    0.000003\n",
      "2016-03-16 22:16:37    0.000003\n",
      "2016-03-09 20:47:38    0.000003\n",
      "2016-03-30 23:46:29    0.000003\n",
      "2016-03-25 22:45:53    0.000003\n",
      "2016-04-04 10:16:04    0.000003\n",
      "2016-03-11 06:41:34    0.000003\n",
      "2016-03-23 19:57:37    0.000003\n",
      "2016-03-20 06:44:24    0.000003\n",
      "2016-03-28 07:03:20    0.000003\n",
      "Name: last_seen, dtype: float64\n"
     ]
    }
   ],
   "source": [
    "# Show the distribution of time points when classfields were last seen on the Ebay website\n",
    "print(autos['last_seen'].value_counts(normalize=True,dropna=False).sort_values(ascending=False).head(10))\n",
    "print(autos['last_seen'].value_counts(normalize=True,dropna=False).sort_values(ascending=True).head(10))"
   ]
  },
  {
   "cell_type": "code",
   "execution_count": 10,
   "metadata": {
    "scrolled": true
   },
   "outputs": [
    {
     "name": "stdout",
     "output_type": "stream",
     "text": [
      "count                  371413\n",
      "unique                 182756\n",
      "top       2016-04-06 13:45:54\n",
      "freq                       17\n",
      "Name: last_seen, dtype: object\n"
     ]
    }
   ],
   "source": [
    "# Show descriptive statistics\n",
    "print(autos['last_seen'].describe())"
   ]
  },
  {
   "cell_type": "markdown",
   "metadata": {},
   "source": [
    "From the results above we may see that the distribution of the time the classfields were last seen is quite unifrom over the dates range in our dataset. Even though the frequency of some days might be comparatively high, but the share of unique values in the total is high enough to assume that there is no particular time, at which the bulk of car sales occured. It is also important to note that all the observations in the 'last_seen' column took place within two months of 2016 - March and April, which is a particular dates range considered in our dataset."
   ]
  },
  {
   "cell_type": "code",
   "execution_count": 11,
   "metadata": {},
   "outputs": [
    {
     "name": "stdout",
     "output_type": "stream",
     "text": [
      "2016-04-03 00:00:00    0.038887\n",
      "2016-04-04 00:00:00    0.037745\n",
      "2016-03-20 00:00:00    0.036463\n",
      "2016-03-12 00:00:00    0.036011\n",
      "2016-03-21 00:00:00    0.035798\n",
      "2016-03-14 00:00:00    0.035222\n",
      "2016-03-28 00:00:00    0.035179\n",
      "2016-04-02 00:00:00    0.034966\n",
      "2016-03-07 00:00:00    0.034517\n",
      "2016-03-19 00:00:00    0.034326\n",
      "Name: date_created, dtype: float64\n",
      "2015-09-09 00:00:00    0.000003\n",
      "2015-11-12 00:00:00    0.000003\n",
      "2015-06-18 00:00:00    0.000003\n",
      "2016-01-15 00:00:00    0.000003\n",
      "2016-01-06 00:00:00    0.000003\n",
      "2015-10-14 00:00:00    0.000003\n",
      "2015-08-10 00:00:00    0.000003\n",
      "2015-11-13 00:00:00    0.000003\n",
      "2015-11-02 00:00:00    0.000003\n",
      "2015-11-10 00:00:00    0.000003\n",
      "Name: date_created, dtype: float64\n"
     ]
    }
   ],
   "source": [
    "# Show the distribution of time points when classfields were created\n",
    "print(autos['date_created'].value_counts(normalize=True,dropna=False).sort_values(ascending=False).head(10))\n",
    "print(autos['date_created'].value_counts(normalize=True,dropna=False).sort_values(ascending=True).head(10))"
   ]
  },
  {
   "cell_type": "code",
   "execution_count": 12,
   "metadata": {
    "scrolled": true
   },
   "outputs": [
    {
     "name": "stdout",
     "output_type": "stream",
     "text": [
      "count                  371413\n",
      "unique                    114\n",
      "top       2016-04-03 00:00:00\n",
      "freq                    14443\n",
      "Name: date_created, dtype: object\n"
     ]
    }
   ],
   "source": [
    "# Show descriptive statistics\n",
    "print(autos['date_created'].describe())"
   ]
  },
  {
   "cell_type": "markdown",
   "metadata": {},
   "source": [
    "A slightly different situation can be observed among the dates when advertisements were created. The majority of them were seemingly created at certain days in March and April 2016, and a far smaller part of classfields was created before 2016. Therefore, we may conclude that the bulk of the observations in this column occured in spring 2016 as well."
   ]
  },
  {
   "cell_type": "code",
   "execution_count": 13,
   "metadata": {},
   "outputs": [
    {
     "name": "stdout",
     "output_type": "stream",
     "text": [
      "2000    0.066072\n",
      "1999    0.061290\n",
      "2005    0.060073\n",
      "2006    0.054457\n",
      "2001    0.054425\n",
      "2003    0.053498\n",
      "2004    0.053156\n",
      "2002    0.051659\n",
      "1998    0.048324\n",
      "2007    0.047580\n",
      "Name: year_of_registration, dtype: float64\n",
      "8455    0.000003\n",
      "3700    0.000003\n",
      "2290    0.000003\n",
      "8200    0.000003\n",
      "8500    0.000003\n",
      "9229    0.000003\n",
      "6500    0.000003\n",
      "2066    0.000003\n",
      "5900    0.000003\n",
      "1039    0.000003\n",
      "Name: year_of_registration, dtype: float64\n"
     ]
    }
   ],
   "source": [
    "# Show the distribution of years when cars in the dataset were registered\n",
    "print(autos['year_of_registration'].value_counts(normalize=True,dropna=False).sort_values(ascending=False).head(10))\n",
    "print(autos['year_of_registration'].value_counts(normalize=True,dropna=False).sort_values(ascending=True).head(10))"
   ]
  },
  {
   "cell_type": "code",
   "execution_count": 14,
   "metadata": {},
   "outputs": [
    {
     "name": "stdout",
     "output_type": "stream",
     "text": [
      "count    371413.000000\n",
      "mean       2004.561152\n",
      "std          91.937676\n",
      "min        1000.000000\n",
      "25%        1999.000000\n",
      "50%        2003.000000\n",
      "75%        2008.000000\n",
      "max        9999.000000\n",
      "Name: year_of_registration, dtype: float64\n"
     ]
    }
   ],
   "source": [
    "# Show descriptive statistics\n",
    "print(autos['year_of_registration'].describe())"
   ]
  },
  {
   "cell_type": "markdown",
   "metadata": {},
   "source": [
    "From the above tables on years of cars' registrations we may see, that there are implausible values among years - min of 1000 and max of 9999. Therefore, we should clean these obviously wrong rows from our dataset. The range is set between 1900 and 2016, when all the car deals were presumably made."
   ]
  },
  {
   "cell_type": "code",
   "execution_count": 15,
   "metadata": {},
   "outputs": [
    {
     "name": "stdout",
     "output_type": "stream",
     "text": [
      "Percentage share of wrong rows: 3.9683586734982352 (%)\n"
     ]
    }
   ],
   "source": [
    "# Check the share of wrong rows in the total\n",
    "print('Percentage share of wrong rows:',(~autos['year_of_registration'].between(1900,2016)).sum()/autos.shape[0]*100,'(%)')\n",
    "\n",
    "# Save only rows with price values within 1900 - 2016 range\n",
    "# by using boolean expression\n",
    "autos = autos[autos['year_of_registration'].between(1900,2016)]"
   ]
  },
  {
   "cell_type": "markdown",
   "metadata": {},
   "source": [
    "We have just 4% of obviously incorrect data, therefore we don't need to delete too many rows thus making our analysis constrained."
   ]
  },
  {
   "cell_type": "markdown",
   "metadata": {},
   "source": [
    "Let's proceed further with the years' distribution."
   ]
  },
  {
   "cell_type": "code",
   "execution_count": 16,
   "metadata": {},
   "outputs": [
    {
     "data": {
      "text/plain": [
       "2000    0.068802\n",
       "1999    0.063823\n",
       "2005    0.062556\n",
       "2006    0.056707\n",
       "2001    0.056674\n",
       "          ...   \n",
       "1925    0.000003\n",
       "1920    0.000003\n",
       "1919    0.000003\n",
       "1915    0.000003\n",
       "1911    0.000003\n",
       "Name: year_of_registration, Length: 97, dtype: float64"
      ]
     },
     "execution_count": 16,
     "metadata": {},
     "output_type": "execute_result"
    }
   ],
   "source": [
    "# Calculate percentage share distribution of years in our dataset\n",
    "autos['year_of_registration'].value_counts(normalize=True)"
   ]
  },
  {
   "cell_type": "markdown",
   "metadata": {},
   "source": [
    "From the above results we may observe that the most common vehicles' registration years in our dataset are either 1990-s or afterwards. On the other hand, years of the begginning of the 20-th century are rather rare, which nonetheless signifies that even extremely old cars are sold sometimes through eBay website."
   ]
  },
  {
   "cell_type": "markdown",
   "metadata": {},
   "source": [
    "## Most Popular Car Brands Can Be Divided into Cheaper and Premium Groups"
   ]
  },
  {
   "cell_type": "markdown",
   "metadata": {},
   "source": [
    "Let's explore further the variety of car brands sold, as recorded in our dataset."
   ]
  },
  {
   "cell_type": "code",
   "execution_count": 17,
   "metadata": {},
   "outputs": [
    {
     "data": {
      "text/plain": [
       "volkswagen        0.212396\n",
       "bmw               0.109697\n",
       "opel              0.107092\n",
       "mercedes_benz     0.095964\n",
       "audi              0.089356\n",
       "ford              0.068856\n",
       "renault           0.047573\n",
       "peugeot           0.029868\n",
       "fiat              0.025763\n",
       "seat              0.018636\n",
       "skoda             0.015412\n",
       "mazda             0.015350\n",
       "smart             0.014108\n",
       "citroen           0.013875\n",
       "nissan            0.013573\n",
       "toyota            0.012751\n",
       "sonstige_autos    0.010584\n",
       "hyundai           0.009833\n",
       "mini              0.009213\n",
       "volvo             0.009132\n",
       "mitsubishi        0.008268\n",
       "honda             0.007590\n",
       "kia               0.006880\n",
       "alfa_romeo        0.006348\n",
       "suzuki            0.006317\n",
       "porsche           0.006101\n",
       "chevrolet         0.005013\n",
       "chrysler          0.003942\n",
       "dacia             0.002450\n",
       "daihatsu          0.002187\n",
       "jeep              0.002184\n",
       "land_rover        0.002136\n",
       "subaru            0.002125\n",
       "jaguar            0.001719\n",
       "trabant           0.001618\n",
       "saab              0.001452\n",
       "daewoo            0.001438\n",
       "rover             0.001298\n",
       "lancia            0.001292\n",
       "lada              0.000611\n",
       "Name: brand, dtype: float64"
      ]
     },
     "execution_count": 17,
     "metadata": {},
     "output_type": "execute_result"
    }
   ],
   "source": [
    "# Calculate shares of unique values in the 'brand' column of our dataset\n",
    "autos['brand'].value_counts(normalize=True)"
   ]
  },
  {
   "cell_type": "markdown",
   "metadata": {},
   "source": [
    "It is not surprising that german cars contitute the majority among the brands with Volkswagen being the unanimous leader of the list - more than 21% of the total turnover. It is followed by three major German premium car brands and Opel with roughly equal shares of around 10%."
   ]
  },
  {
   "cell_type": "markdown",
   "metadata": {},
   "source": [
    "Let's consider further only car brands which comprise at least 1% of all sales in our dataset. Those below this threshold are not worthy of further analysis and hence dropped as irrelevant."
   ]
  },
  {
   "cell_type": "code",
   "execution_count": 18,
   "metadata": {},
   "outputs": [],
   "source": [
    "# Create series containing shares of car brands in total turnover \n",
    "brands = autos['brand'].value_counts(normalize=True)\n",
    "popular_brands = brands[brands>0.01].index # use only header line to create list\n",
    "                                           # of brands we are interested in"
   ]
  },
  {
   "cell_type": "markdown",
   "metadata": {},
   "source": [
    "Now that we have the list of popular car brands being sold in Germany, it is possible to calculate their mean prices, mileage, horsepower, year of registration and the average number of days these car brands were on sale - i.e. how fast they were sold."
   ]
  },
  {
   "cell_type": "code",
   "execution_count": 19,
   "metadata": {},
   "outputs": [
    {
     "name": "stdout",
     "output_type": "stream",
     "text": [
      "{'volkswagen': 5231, 'bmw': 8224, 'opel': 2870, 'mercedes_benz': 8387, 'audi': 8849, 'ford': 3595, 'renault': 2366, 'peugeot': 3206, 'fiat': 2803, 'seat': 4420, 'skoda': 6460, 'mazda': 3970, 'smart': 3586, 'citroen': 3649, 'nissan': 4585, 'toyota': 5263, 'sonstige_autos': 12456}\n"
     ]
    }
   ],
   "source": [
    "# Create a dictionary containing average prices corresponding to popular car models\n",
    "mean_prices = {}\n",
    "\n",
    "for i in popular_brands:\n",
    "    mean_prices[i] = int(autos[autos['brand']==i]['price'].mean())\n",
    " \n",
    "# check results\n",
    "print(mean_prices)"
   ]
  },
  {
   "cell_type": "code",
   "execution_count": 20,
   "metadata": {
    "scrolled": true
   },
   "outputs": [
    {
     "name": "stdout",
     "output_type": "stream",
     "text": [
      "{'volkswagen': 128338, 'bmw': 132666, 'opel': 128756, 'mercedes_benz': 130585, 'audi': 129498, 'ford': 123617, 'renault': 127875, 'peugeot': 124599, 'fiat': 116523, 'seat': 120916, 'skoda': 113720, 'mazda': 125945, 'smart': 99684, 'citroen': 120313, 'nissan': 119543, 'toyota': 117337, 'sonstige_autos': 86854}\n"
     ]
    }
   ],
   "source": [
    "# Repeat the same procedure of average mileage\n",
    "mean_mileage = {}\n",
    "\n",
    "for i in popular_brands:\n",
    "    mean_mileage[i] = int(autos[autos['brand']==i]['kilometer'].mean())\n",
    "\n",
    "print(mean_mileage)"
   ]
  },
  {
   "cell_type": "code",
   "execution_count": 21,
   "metadata": {
    "scrolled": true
   },
   "outputs": [
    {
     "name": "stdout",
     "output_type": "stream",
     "text": [
      "{'volkswagen': 2002, 'bmw': 2002, 'opel': 2002, 'mercedes_benz': 2001, 'audi': 2003, 'ford': 2002, 'renault': 2002, 'peugeot': 2003, 'fiat': 2002, 'seat': 2004, 'skoda': 2006, 'mazda': 2002, 'smart': 2005, 'citroen': 2003, 'nissan': 2003, 'toyota': 2004, 'sonstige_autos': 1993}\n"
     ]
    }
   ],
   "source": [
    "# Repeat the same procedure of cars' average age\n",
    "mean_age = {}\n",
    "\n",
    "for i in popular_brands:\n",
    "    mean_age[i] = int(autos[autos['brand']==i]['year_of_registration'].mean())\n",
    "\n",
    "print(mean_age)"
   ]
  },
  {
   "cell_type": "code",
   "execution_count": 22,
   "metadata": {},
   "outputs": [
    {
     "name": "stdout",
     "output_type": "stream",
     "text": [
      "{'volkswagen': 98, 'bmw': 166, 'opel': 92, 'mercedes_benz': 154, 'audi': 157, 'ford': 96, 'renault': 79, 'peugeot': 91, 'fiat': 72, 'seat': 92, 'skoda': 100, 'mazda': 106, 'smart': 61, 'citroen': 88, 'nissan': 95, 'toyota': 102, 'sonstige_autos': 125}\n"
     ]
    }
   ],
   "source": [
    "# Repeat the same procedure of cars' average horsepower\n",
    "mean_power = {}\n",
    "\n",
    "for i in popular_brands:\n",
    "    mean_power[i] = int(autos[autos['brand']==i]['power_p_s'].mean())\n",
    "\n",
    "print(mean_power)"
   ]
  },
  {
   "cell_type": "markdown",
   "metadata": {},
   "source": [
    "Let's now create a new column, which would reflect the duration of time, when a car was on sale. For this purpose we should use the date each classfield was created and the date it was last seen - we consider these two dates as proxies for the start and the end of cars selling."
   ]
  },
  {
   "cell_type": "code",
   "execution_count": 23,
   "metadata": {
    "scrolled": true
   },
   "outputs": [
    {
     "data": {
      "text/plain": [
       "count    356674.000000\n",
       "mean          8.870470\n",
       "std           8.730316\n",
       "min           0.000000\n",
       "25%           2.000000\n",
       "50%           6.000000\n",
       "75%          14.000000\n",
       "max         759.000000\n",
       "dtype: float64"
      ]
     },
     "execution_count": 23,
     "metadata": {},
     "output_type": "execute_result"
    }
   ],
   "source": [
    "# Turn two columns of interest into date and time format\n",
    "last_seen = pd.to_datetime(autos['last_seen'])\n",
    "date_created = pd.to_datetime(autos['date_created'])\n",
    "last_seen = last_seen.dt.date # drop hours out of our consideration\n",
    "date_created = date_created.dt.date\n",
    "\n",
    "# calculate time on sale\n",
    "days_on_sale = (last_seen - date_created)\n",
    "days_on_sale = days_on_sale.dt.days # consider only the number of days\n",
    "\n",
    "# get descriptive statistics\n",
    "days_on_sale.describe()"
   ]
  },
  {
   "cell_type": "code",
   "execution_count": 24,
   "metadata": {
    "scrolled": false
   },
   "outputs": [
    {
     "data": {
      "text/plain": [
       "2016-04-03    0.038971\n",
       "2016-04-04    0.037796\n",
       "2016-03-20    0.036538\n",
       "2016-03-12    0.036053\n",
       "2016-03-21    0.035825\n",
       "2016-03-28    0.035144\n",
       "2016-03-14    0.035116\n",
       "2016-04-02    0.034923\n",
       "2016-03-07    0.034642\n",
       "2016-03-19    0.034289\n",
       "Name: date_created, dtype: float64"
      ]
     },
     "execution_count": 24,
     "metadata": {},
     "output_type": "execute_result"
    }
   ],
   "source": [
    "# Check the distribution of days when classfields were created\n",
    "date_created.value_counts(normalize=True).head(10)"
   ]
  },
  {
   "cell_type": "code",
   "execution_count": 25,
   "metadata": {},
   "outputs": [
    {
     "data": {
      "text/plain": [
       "2016-04-06    0.219467\n",
       "2016-04-07    0.130752\n",
       "2016-04-05    0.126757\n",
       "2016-03-17    0.028544\n",
       "2016-04-04    0.025561\n",
       "2016-04-03    0.025197\n",
       "2016-04-02    0.024793\n",
       "2016-03-31    0.024165\n",
       "2016-04-01    0.023941\n",
       "2016-03-30    0.023758\n",
       "Name: last_seen, dtype: float64"
      ]
     },
     "execution_count": 25,
     "metadata": {},
     "output_type": "execute_result"
    }
   ],
   "source": [
    "# Check the distribution of days when classfields were last seen\n",
    "last_seen.value_counts(normalize=True).head(10)"
   ]
  },
  {
   "cell_type": "markdown",
   "metadata": {},
   "source": [
    "From the above results we may note that it took almost 9 days for a car to get sold on average, and around 75% of cars in the dataset were sold within 14 days, as measured by the time respective advertisements were on public. It is also important to note that almost half of the observations, when classfields were last seen, did occur in just three days - 5, 6, 7 April 2016. This might be due to technical limitations, and we are thus warned against considering it as a unanimous indicator of the time cars were sold - these dates are rather rough approximations of that at the most. On the other hand, the distribution of dates when classfields were created is uniform and doen't present a similar conundrum at the first sight."
   ]
  },
  {
   "cell_type": "markdown",
   "metadata": {},
   "source": [
    "To proceed further we should calculate the average values of most important variables for each car brand."
   ]
  },
  {
   "cell_type": "code",
   "execution_count": 26,
   "metadata": {},
   "outputs": [
    {
     "name": "stdout",
     "output_type": "stream",
     "text": [
      "{'volkswagen': 8.6, 'bmw': 9.2, 'opel': 8.2, 'mercedes_benz': 9.1, 'audi': 9.3, 'ford': 8.4, 'renault': 8.4, 'peugeot': 8.7, 'fiat': 8.9, 'seat': 9.1, 'skoda': 9.2, 'mazda': 8.9, 'smart': 9.1, 'citroen': 9.0, 'nissan': 8.6, 'toyota': 8.8, 'sonstige_autos': 9.9}\n"
     ]
    }
   ],
   "source": [
    "# Create a dictionary containing cars' average number of days on sale\n",
    "autos['days_on_sale'] = days_on_sale.astype(int)\n",
    "\n",
    "mean_days_on_sale = {}\n",
    "\n",
    "for i in popular_brands:\n",
    "    mean_days_on_sale[i] = round(autos[autos['brand']==i]['days_on_sale'].mean(),1)\n",
    "\n",
    "# check results\n",
    "print(mean_days_on_sale)"
   ]
  },
  {
   "cell_type": "code",
   "execution_count": 27,
   "metadata": {},
   "outputs": [
    {
     "data": {
      "text/html": [
       "<div>\n",
       "<style scoped>\n",
       "    .dataframe tbody tr th:only-of-type {\n",
       "        vertical-align: middle;\n",
       "    }\n",
       "\n",
       "    .dataframe tbody tr th {\n",
       "        vertical-align: top;\n",
       "    }\n",
       "\n",
       "    .dataframe thead th {\n",
       "        text-align: right;\n",
       "    }\n",
       "</style>\n",
       "<table border=\"1\" class=\"dataframe\">\n",
       "  <thead>\n",
       "    <tr style=\"text-align: right;\">\n",
       "      <th></th>\n",
       "      <th>Price</th>\n",
       "      <th>Mileage (km)</th>\n",
       "      <th>Days on Sale</th>\n",
       "      <th>Registration Year</th>\n",
       "      <th>Horse Power</th>\n",
       "    </tr>\n",
       "  </thead>\n",
       "  <tbody>\n",
       "    <tr>\n",
       "      <th>volkswagen</th>\n",
       "      <td>5231</td>\n",
       "      <td>128338</td>\n",
       "      <td>8.6</td>\n",
       "      <td>2002</td>\n",
       "      <td>98</td>\n",
       "    </tr>\n",
       "    <tr>\n",
       "      <th>bmw</th>\n",
       "      <td>8224</td>\n",
       "      <td>132666</td>\n",
       "      <td>9.2</td>\n",
       "      <td>2002</td>\n",
       "      <td>166</td>\n",
       "    </tr>\n",
       "    <tr>\n",
       "      <th>opel</th>\n",
       "      <td>2870</td>\n",
       "      <td>128756</td>\n",
       "      <td>8.2</td>\n",
       "      <td>2002</td>\n",
       "      <td>92</td>\n",
       "    </tr>\n",
       "    <tr>\n",
       "      <th>mercedes_benz</th>\n",
       "      <td>8387</td>\n",
       "      <td>130585</td>\n",
       "      <td>9.1</td>\n",
       "      <td>2001</td>\n",
       "      <td>154</td>\n",
       "    </tr>\n",
       "    <tr>\n",
       "      <th>audi</th>\n",
       "      <td>8849</td>\n",
       "      <td>129498</td>\n",
       "      <td>9.3</td>\n",
       "      <td>2003</td>\n",
       "      <td>157</td>\n",
       "    </tr>\n",
       "    <tr>\n",
       "      <th>ford</th>\n",
       "      <td>3595</td>\n",
       "      <td>123617</td>\n",
       "      <td>8.4</td>\n",
       "      <td>2002</td>\n",
       "      <td>96</td>\n",
       "    </tr>\n",
       "    <tr>\n",
       "      <th>renault</th>\n",
       "      <td>2366</td>\n",
       "      <td>127875</td>\n",
       "      <td>8.4</td>\n",
       "      <td>2002</td>\n",
       "      <td>79</td>\n",
       "    </tr>\n",
       "    <tr>\n",
       "      <th>peugeot</th>\n",
       "      <td>3206</td>\n",
       "      <td>124599</td>\n",
       "      <td>8.7</td>\n",
       "      <td>2003</td>\n",
       "      <td>91</td>\n",
       "    </tr>\n",
       "    <tr>\n",
       "      <th>fiat</th>\n",
       "      <td>2803</td>\n",
       "      <td>116523</td>\n",
       "      <td>8.9</td>\n",
       "      <td>2002</td>\n",
       "      <td>72</td>\n",
       "    </tr>\n",
       "    <tr>\n",
       "      <th>seat</th>\n",
       "      <td>4420</td>\n",
       "      <td>120916</td>\n",
       "      <td>9.1</td>\n",
       "      <td>2004</td>\n",
       "      <td>92</td>\n",
       "    </tr>\n",
       "    <tr>\n",
       "      <th>skoda</th>\n",
       "      <td>6460</td>\n",
       "      <td>113720</td>\n",
       "      <td>9.2</td>\n",
       "      <td>2006</td>\n",
       "      <td>100</td>\n",
       "    </tr>\n",
       "    <tr>\n",
       "      <th>mazda</th>\n",
       "      <td>3970</td>\n",
       "      <td>125945</td>\n",
       "      <td>8.9</td>\n",
       "      <td>2002</td>\n",
       "      <td>106</td>\n",
       "    </tr>\n",
       "    <tr>\n",
       "      <th>smart</th>\n",
       "      <td>3586</td>\n",
       "      <td>99684</td>\n",
       "      <td>9.1</td>\n",
       "      <td>2005</td>\n",
       "      <td>61</td>\n",
       "    </tr>\n",
       "    <tr>\n",
       "      <th>citroen</th>\n",
       "      <td>3649</td>\n",
       "      <td>120313</td>\n",
       "      <td>9.0</td>\n",
       "      <td>2003</td>\n",
       "      <td>88</td>\n",
       "    </tr>\n",
       "    <tr>\n",
       "      <th>nissan</th>\n",
       "      <td>4585</td>\n",
       "      <td>119543</td>\n",
       "      <td>8.6</td>\n",
       "      <td>2003</td>\n",
       "      <td>95</td>\n",
       "    </tr>\n",
       "    <tr>\n",
       "      <th>toyota</th>\n",
       "      <td>5263</td>\n",
       "      <td>117337</td>\n",
       "      <td>8.8</td>\n",
       "      <td>2004</td>\n",
       "      <td>102</td>\n",
       "    </tr>\n",
       "    <tr>\n",
       "      <th>sonstige_autos</th>\n",
       "      <td>12456</td>\n",
       "      <td>86854</td>\n",
       "      <td>9.9</td>\n",
       "      <td>1993</td>\n",
       "      <td>125</td>\n",
       "    </tr>\n",
       "  </tbody>\n",
       "</table>\n",
       "</div>"
      ],
      "text/plain": [
       "                Price  Mileage (km)  Days on Sale  Registration Year  \\\n",
       "volkswagen       5231        128338           8.6               2002   \n",
       "bmw              8224        132666           9.2               2002   \n",
       "opel             2870        128756           8.2               2002   \n",
       "mercedes_benz    8387        130585           9.1               2001   \n",
       "audi             8849        129498           9.3               2003   \n",
       "ford             3595        123617           8.4               2002   \n",
       "renault          2366        127875           8.4               2002   \n",
       "peugeot          3206        124599           8.7               2003   \n",
       "fiat             2803        116523           8.9               2002   \n",
       "seat             4420        120916           9.1               2004   \n",
       "skoda            6460        113720           9.2               2006   \n",
       "mazda            3970        125945           8.9               2002   \n",
       "smart            3586         99684           9.1               2005   \n",
       "citroen          3649        120313           9.0               2003   \n",
       "nissan           4585        119543           8.6               2003   \n",
       "toyota           5263        117337           8.8               2004   \n",
       "sonstige_autos  12456         86854           9.9               1993   \n",
       "\n",
       "                Horse Power  \n",
       "volkswagen               98  \n",
       "bmw                     166  \n",
       "opel                     92  \n",
       "mercedes_benz           154  \n",
       "audi                    157  \n",
       "ford                     96  \n",
       "renault                  79  \n",
       "peugeot                  91  \n",
       "fiat                     72  \n",
       "seat                     92  \n",
       "skoda                   100  \n",
       "mazda                   106  \n",
       "smart                    61  \n",
       "citroen                  88  \n",
       "nissan                   95  \n",
       "toyota                  102  \n",
       "sonstige_autos          125  "
      ]
     },
     "execution_count": 27,
     "metadata": {},
     "output_type": "execute_result"
    }
   ],
   "source": [
    "# Create columns for each variable of interest\n",
    "popular_brands_table = pd.DataFrame(pd.Series(mean_prices), columns=['Price'])\n",
    "mileage_table = pd.DataFrame(pd.Series(mean_mileage), columns=['mileage'])\n",
    "days_on_sale_table = pd.DataFrame(pd.Series(mean_days_on_sale), columns=['days_on_sale'])\n",
    "age_table = pd.DataFrame(pd.Series(mean_age), columns=['year_of_registration'])\n",
    "power_table = pd.DataFrame(pd.Series(mean_power), columns=['Horse Power'])\n",
    "\n",
    "# add columns to our output table with mean values\n",
    "popular_brands_table['Mileage (km)'] = mileage_table\n",
    "popular_brands_table['Days on Sale'] = days_on_sale_table\n",
    "popular_brands_table['Registration Year'] = age_table\n",
    "popular_brands_table['Horse Power'] = power_table\n",
    "\n",
    "# check output table with averages\n",
    "popular_brands_table"
   ]
  },
  {
   "cell_type": "markdown",
   "metadata": {},
   "source": [
    "From the above table we may observe several important things:\n",
    "- BMW, Audi and Mercedes-Benz are the most expensive popular brands, Volkswagen is right in the middle and Opel, Ford are the cheapest among the top six car brands;\n",
    "- the higher mileage of German premium brands doesn't lead to significant price drops, which indicates their high quality and reliability - even brands with far lower mileage are still evidently cheaper;\n",
    "- the most frequently sold top brands are Opel, Ford and Volkswagen, which is not surprising considering their general purpose of being accessible to everybody;\n",
    "- the average age of brands considered is almost the same, therefore it is difficult to make any inferences out of this variable;\n",
    "- the horsepower of German premium brands is on average two times higher than that of other brands, which is again not suprising considering their class and price."
   ]
  },
  {
   "cell_type": "markdown",
   "metadata": {},
   "source": [
    "## There Are Several Car Models Being Sold the Most"
   ]
  },
  {
   "cell_type": "markdown",
   "metadata": {},
   "source": [
    "Let's check further what models of most popular brands are sold the most."
   ]
  },
  {
   "cell_type": "code",
   "execution_count": 28,
   "metadata": {
    "scrolled": true
   },
   "outputs": [
    {
     "data": {
      "text/html": [
       "<div>\n",
       "<style scoped>\n",
       "    .dataframe tbody tr th:only-of-type {\n",
       "        vertical-align: middle;\n",
       "    }\n",
       "\n",
       "    .dataframe tbody tr th {\n",
       "        vertical-align: top;\n",
       "    }\n",
       "\n",
       "    .dataframe thead th {\n",
       "        text-align: right;\n",
       "    }\n",
       "</style>\n",
       "<table border=\"1\" class=\"dataframe\">\n",
       "  <thead>\n",
       "    <tr style=\"text-align: right;\">\n",
       "      <th></th>\n",
       "      <th>Volkswagen</th>\n",
       "    </tr>\n",
       "  </thead>\n",
       "  <tbody>\n",
       "    <tr>\n",
       "      <th>golf</th>\n",
       "      <td>0.391313</td>\n",
       "    </tr>\n",
       "    <tr>\n",
       "      <th>polo</th>\n",
       "      <td>0.171710</td>\n",
       "    </tr>\n",
       "    <tr>\n",
       "      <th>passat</th>\n",
       "      <td>0.137679</td>\n",
       "    </tr>\n",
       "    <tr>\n",
       "      <th>transporter</th>\n",
       "      <td>0.073857</td>\n",
       "    </tr>\n",
       "    <tr>\n",
       "      <th>touran</th>\n",
       "      <td>0.045843</td>\n",
       "    </tr>\n",
       "  </tbody>\n",
       "</table>\n",
       "</div>"
      ],
      "text/plain": [
       "             Volkswagen\n",
       "golf           0.391313\n",
       "polo           0.171710\n",
       "passat         0.137679\n",
       "transporter    0.073857\n",
       "touran         0.045843"
      ]
     },
     "execution_count": 28,
     "metadata": {},
     "output_type": "execute_result"
    }
   ],
   "source": [
    "# Calculate shares of different models within the car brand\n",
    "volkswagen_series = autos[autos['brand'] == 'volkswagen']['model'].dropna().value_counts(normalize=True,dropna=False).sort_values(ascending=False)\n",
    "\n",
    "volkswagen = pd.DataFrame(pd.Series(volkswagen_series))\n",
    "volkswagen.columns = ['Volkswagen']\n",
    "volkswagen[:5]"
   ]
  },
  {
   "cell_type": "code",
   "execution_count": 29,
   "metadata": {
    "scrolled": true
   },
   "outputs": [
    {
     "data": {
      "text/html": [
       "<div>\n",
       "<style scoped>\n",
       "    .dataframe tbody tr th:only-of-type {\n",
       "        vertical-align: middle;\n",
       "    }\n",
       "\n",
       "    .dataframe tbody tr th {\n",
       "        vertical-align: top;\n",
       "    }\n",
       "\n",
       "    .dataframe thead th {\n",
       "        text-align: right;\n",
       "    }\n",
       "</style>\n",
       "<table border=\"1\" class=\"dataframe\">\n",
       "  <thead>\n",
       "    <tr style=\"text-align: right;\">\n",
       "      <th></th>\n",
       "      <th>BMW</th>\n",
       "    </tr>\n",
       "  </thead>\n",
       "  <tbody>\n",
       "    <tr>\n",
       "      <th>3er</th>\n",
       "      <td>0.535301</td>\n",
       "    </tr>\n",
       "    <tr>\n",
       "      <th>5er</th>\n",
       "      <td>0.224450</td>\n",
       "    </tr>\n",
       "    <tr>\n",
       "      <th>1er</th>\n",
       "      <td>0.099955</td>\n",
       "    </tr>\n",
       "    <tr>\n",
       "      <th>x_reihe</th>\n",
       "      <td>0.060711</td>\n",
       "    </tr>\n",
       "    <tr>\n",
       "      <th>7er</th>\n",
       "      <td>0.029567</td>\n",
       "    </tr>\n",
       "  </tbody>\n",
       "</table>\n",
       "</div>"
      ],
      "text/plain": [
       "              BMW\n",
       "3er      0.535301\n",
       "5er      0.224450\n",
       "1er      0.099955\n",
       "x_reihe  0.060711\n",
       "7er      0.029567"
      ]
     },
     "execution_count": 29,
     "metadata": {},
     "output_type": "execute_result"
    }
   ],
   "source": [
    "# Calculate shares of different models within the car brand\n",
    "bmw_series = autos[autos['brand'] == 'bmw']['model'].dropna().value_counts(normalize=True,dropna=False).sort_values(ascending=False)\n",
    "\n",
    "bmw = pd.DataFrame(pd.Series(bmw_series))\n",
    "bmw.columns = ['BMW']\n",
    "bmw[:5]"
   ]
  },
  {
   "cell_type": "code",
   "execution_count": 30,
   "metadata": {},
   "outputs": [
    {
     "data": {
      "text/html": [
       "<div>\n",
       "<style scoped>\n",
       "    .dataframe tbody tr th:only-of-type {\n",
       "        vertical-align: middle;\n",
       "    }\n",
       "\n",
       "    .dataframe tbody tr th {\n",
       "        vertical-align: top;\n",
       "    }\n",
       "\n",
       "    .dataframe thead th {\n",
       "        text-align: right;\n",
       "    }\n",
       "</style>\n",
       "<table border=\"1\" class=\"dataframe\">\n",
       "  <thead>\n",
       "    <tr style=\"text-align: right;\">\n",
       "      <th></th>\n",
       "      <th>Opel</th>\n",
       "    </tr>\n",
       "  </thead>\n",
       "  <tbody>\n",
       "    <tr>\n",
       "      <th>corsa</th>\n",
       "      <td>0.326900</td>\n",
       "    </tr>\n",
       "    <tr>\n",
       "      <th>astra</th>\n",
       "      <td>0.283509</td>\n",
       "    </tr>\n",
       "    <tr>\n",
       "      <th>vectra</th>\n",
       "      <td>0.112161</td>\n",
       "    </tr>\n",
       "    <tr>\n",
       "      <th>zafira</th>\n",
       "      <td>0.078214</td>\n",
       "    </tr>\n",
       "    <tr>\n",
       "      <th>omega</th>\n",
       "      <td>0.037697</td>\n",
       "    </tr>\n",
       "  </tbody>\n",
       "</table>\n",
       "</div>"
      ],
      "text/plain": [
       "            Opel\n",
       "corsa   0.326900\n",
       "astra   0.283509\n",
       "vectra  0.112161\n",
       "zafira  0.078214\n",
       "omega   0.037697"
      ]
     },
     "execution_count": 30,
     "metadata": {},
     "output_type": "execute_result"
    }
   ],
   "source": [
    "# Calculate shares of different models within the car brand\n",
    "opel_series = autos[autos['brand'] == 'opel']['model'].dropna().value_counts(normalize=True,dropna=False).sort_values(ascending=False)\n",
    "\n",
    "opel = pd.DataFrame(pd.Series(opel_series))\n",
    "opel.columns = ['Opel']\n",
    "opel[:5]"
   ]
  },
  {
   "cell_type": "code",
   "execution_count": 31,
   "metadata": {},
   "outputs": [
    {
     "data": {
      "text/html": [
       "<div>\n",
       "<style scoped>\n",
       "    .dataframe tbody tr th:only-of-type {\n",
       "        vertical-align: middle;\n",
       "    }\n",
       "\n",
       "    .dataframe tbody tr th {\n",
       "        vertical-align: top;\n",
       "    }\n",
       "\n",
       "    .dataframe thead th {\n",
       "        text-align: right;\n",
       "    }\n",
       "</style>\n",
       "<table border=\"1\" class=\"dataframe\">\n",
       "  <thead>\n",
       "    <tr style=\"text-align: right;\">\n",
       "      <th></th>\n",
       "      <th>Mercedes-Benz</th>\n",
       "    </tr>\n",
       "  </thead>\n",
       "  <tbody>\n",
       "    <tr>\n",
       "      <th>c_klasse</th>\n",
       "      <td>0.258783</td>\n",
       "    </tr>\n",
       "    <tr>\n",
       "      <th>e_klasse</th>\n",
       "      <td>0.223711</td>\n",
       "    </tr>\n",
       "    <tr>\n",
       "      <th>a_klasse</th>\n",
       "      <td>0.121906</td>\n",
       "    </tr>\n",
       "    <tr>\n",
       "      <th>andere</th>\n",
       "      <td>0.099088</td>\n",
       "    </tr>\n",
       "    <tr>\n",
       "      <th>clk</th>\n",
       "      <td>0.054389</td>\n",
       "    </tr>\n",
       "  </tbody>\n",
       "</table>\n",
       "</div>"
      ],
      "text/plain": [
       "          Mercedes-Benz\n",
       "c_klasse       0.258783\n",
       "e_klasse       0.223711\n",
       "a_klasse       0.121906\n",
       "andere         0.099088\n",
       "clk            0.054389"
      ]
     },
     "execution_count": 31,
     "metadata": {},
     "output_type": "execute_result"
    }
   ],
   "source": [
    "# Calculate shares of different models within the car brand\n",
    "mercedes_benz_series = autos[autos['brand'] == 'mercedes_benz']['model'].dropna().value_counts(normalize=True,dropna=False).sort_values(ascending=False)\n",
    "\n",
    "mercedes_benz = pd.DataFrame(pd.Series(mercedes_benz_series))\n",
    "mercedes_benz.columns = ['Mercedes-Benz']\n",
    "mercedes_benz[:5]"
   ]
  },
  {
   "cell_type": "code",
   "execution_count": 32,
   "metadata": {
    "scrolled": true
   },
   "outputs": [
    {
     "data": {
      "text/html": [
       "<div>\n",
       "<style scoped>\n",
       "    .dataframe tbody tr th:only-of-type {\n",
       "        vertical-align: middle;\n",
       "    }\n",
       "\n",
       "    .dataframe tbody tr th {\n",
       "        vertical-align: top;\n",
       "    }\n",
       "\n",
       "    .dataframe thead th {\n",
       "        text-align: right;\n",
       "    }\n",
       "</style>\n",
       "<table border=\"1\" class=\"dataframe\">\n",
       "  <thead>\n",
       "    <tr style=\"text-align: right;\">\n",
       "      <th></th>\n",
       "      <th>Audi</th>\n",
       "    </tr>\n",
       "  </thead>\n",
       "  <tbody>\n",
       "    <tr>\n",
       "      <th>a4</th>\n",
       "      <td>0.327256</td>\n",
       "    </tr>\n",
       "    <tr>\n",
       "      <th>a3</th>\n",
       "      <td>0.203204</td>\n",
       "    </tr>\n",
       "    <tr>\n",
       "      <th>a6</th>\n",
       "      <td>0.192134</td>\n",
       "    </tr>\n",
       "    <tr>\n",
       "      <th>andere</th>\n",
       "      <td>0.051184</td>\n",
       "    </tr>\n",
       "    <tr>\n",
       "      <th>80</th>\n",
       "      <td>0.050760</td>\n",
       "    </tr>\n",
       "  </tbody>\n",
       "</table>\n",
       "</div>"
      ],
      "text/plain": [
       "            Audi\n",
       "a4      0.327256\n",
       "a3      0.203204\n",
       "a6      0.192134\n",
       "andere  0.051184\n",
       "80      0.050760"
      ]
     },
     "execution_count": 32,
     "metadata": {},
     "output_type": "execute_result"
    }
   ],
   "source": [
    "# Calculate shares of different models within the car brand\n",
    "audi_series = autos[autos['brand'] == 'audi']['model'].dropna().value_counts(normalize=True,dropna=False).sort_values(ascending=False)\n",
    "\n",
    "audi = pd.DataFrame(pd.Series(audi_series))\n",
    "audi.columns = ['Audi']\n",
    "audi[:5]"
   ]
  },
  {
   "cell_type": "code",
   "execution_count": 33,
   "metadata": {},
   "outputs": [
    {
     "data": {
      "text/html": [
       "<div>\n",
       "<style scoped>\n",
       "    .dataframe tbody tr th:only-of-type {\n",
       "        vertical-align: middle;\n",
       "    }\n",
       "\n",
       "    .dataframe tbody tr th {\n",
       "        vertical-align: top;\n",
       "    }\n",
       "\n",
       "    .dataframe thead th {\n",
       "        text-align: right;\n",
       "    }\n",
       "</style>\n",
       "<table border=\"1\" class=\"dataframe\">\n",
       "  <thead>\n",
       "    <tr style=\"text-align: right;\">\n",
       "      <th></th>\n",
       "      <th>Ford</th>\n",
       "    </tr>\n",
       "  </thead>\n",
       "  <tbody>\n",
       "    <tr>\n",
       "      <th>focus</th>\n",
       "      <td>0.241287</td>\n",
       "    </tr>\n",
       "    <tr>\n",
       "      <th>fiesta</th>\n",
       "      <td>0.234774</td>\n",
       "    </tr>\n",
       "    <tr>\n",
       "      <th>mondeo</th>\n",
       "      <td>0.149129</td>\n",
       "    </tr>\n",
       "    <tr>\n",
       "      <th>ka</th>\n",
       "      <td>0.109964</td>\n",
       "    </tr>\n",
       "    <tr>\n",
       "      <th>andere</th>\n",
       "      <td>0.062553</td>\n",
       "    </tr>\n",
       "  </tbody>\n",
       "</table>\n",
       "</div>"
      ],
      "text/plain": [
       "            Ford\n",
       "focus   0.241287\n",
       "fiesta  0.234774\n",
       "mondeo  0.149129\n",
       "ka      0.109964\n",
       "andere  0.062553"
      ]
     },
     "execution_count": 33,
     "metadata": {},
     "output_type": "execute_result"
    }
   ],
   "source": [
    "# Calculate shares of different models within the car brand\n",
    "ford_series = autos[autos['brand'] == 'ford']['model'].dropna().value_counts(normalize=True,dropna=False).sort_values(ascending=False)\n",
    "\n",
    "ford = pd.DataFrame(pd.Series(ford_series))\n",
    "ford.columns = ['Ford']\n",
    "ford[:5]"
   ]
  },
  {
   "cell_type": "markdown",
   "metadata": {},
   "source": [
    "The above tables show us that each of the considered car brands has one or two most traded models - Volkswagen Golf, BMW 3 Series, Opel Corsa, Mercedes-Benz C-Class, Audi A4 and Ford Focus are sold the most."
   ]
  },
  {
   "cell_type": "markdown",
   "metadata": {},
   "source": [
    "## Conclusion"
   ]
  },
  {
   "cell_type": "markdown",
   "metadata": {},
   "source": [
    "In this project we attempted to figure out what types of cars are most likely to be sold and what is their average price level. By using the dataset on used cars from the German eBay classifieds section, we found out that Volkswagen, Ford and Opel are very popular brands and can be bought and sold most easily, considering their average time on sale. Their price in general is also lower, as compared to German premium brands, like BMW, Audi or Mercedes-Benz, even though the mileage is lower on average. This point might be explained by the higher reliability, horsepower and prestige of the latter group of brands."
   ]
  },
  {
   "cell_type": "markdown",
   "metadata": {},
   "source": [
    "All in all, we would suggest a car dealer operating in Germany two major options. The first one is to focus on cheaper models, which are sold the fastest - **Volkswagen Golf, Opel Corsa, Opel Astra, Ford Focus and Ford Fiesta**. The second option is to operate with premium brands, the price of which might be less affected by mileage and probably other negative factors as well - **BMW 3 Series, Mercedes-Benz C-Class, Mercedes-Benz E-Class and Audi A4**. However, it should be kept in mind that it takes slightly longer (one day on average) for them to be sold out."
   ]
  },
  {
   "cell_type": "markdown",
   "metadata": {},
   "source": [
    "The information concerning car models turnover might be of interest to other stakeholders as well. For example, the businesses related to auto parts and auto services may potentially take advantage of the knowledge concerning what cars are used the most, so that to meet better the automobile users' demand. Car buyers and sellers, who want to know the market pricing of various models may also refer to the observed average prices of sold cars as a benchmark for their subsequent market operations."
   ]
  }
 ],
 "metadata": {
  "kernelspec": {
   "display_name": "Python 3",
   "language": "python",
   "name": "python3"
  },
  "language_info": {
   "codemirror_mode": {
    "name": "ipython",
    "version": 3
   },
   "file_extension": ".py",
   "mimetype": "text/x-python",
   "name": "python",
   "nbconvert_exporter": "python",
   "pygments_lexer": "ipython3",
   "version": "3.7.6"
  }
 },
 "nbformat": 4,
 "nbformat_minor": 4
}
